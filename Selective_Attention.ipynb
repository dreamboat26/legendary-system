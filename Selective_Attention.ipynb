{
  "nbformat": 4,
  "nbformat_minor": 0,
  "metadata": {
    "colab": {
      "provenance": []
    },
    "kernelspec": {
      "name": "python3",
      "display_name": "Python 3"
    },
    "language_info": {
      "name": "python"
    }
  },
  "cells": [
    {
      "cell_type": "code",
      "execution_count": null,
      "metadata": {
        "colab": {
          "base_uri": "https://localhost:8080/"
        },
        "id": "b1Nf1ndvnQFL",
        "outputId": "faad38a0-65a6-4a62-af66-976ead4e7f04"
      },
      "outputs": [
        {
          "output_type": "stream",
          "name": "stdout",
          "text": [
            "Output shape: torch.Size([2, 5, 64])\n"
          ]
        }
      ],
      "source": [
        "import torch\n",
        "import torch.nn as nn\n",
        "import torch.nn.functional as F\n",
        "\n",
        "class SelectiveAttention(nn.Module):\n",
        "    def __init__(self, embed_dim, num_heads):\n",
        "        super(SelectiveAttention, self).__init__()\n",
        "        self.num_heads = num_heads\n",
        "        self.embed_dim = embed_dim\n",
        "        self.head_dim = embed_dim // num_heads\n",
        "\n",
        "        assert self.head_dim * num_heads == embed_dim, \"Embedding dimension must be divisible by number of heads\"\n",
        "\n",
        "        # Linear layers for query, key, and value\n",
        "        self.q_proj = nn.Linear(embed_dim, embed_dim)\n",
        "        self.k_proj = nn.Linear(embed_dim, embed_dim)\n",
        "        self.v_proj = nn.Linear(embed_dim, embed_dim)\n",
        "\n",
        "        # Output projection layer\n",
        "        self.out_proj = nn.Linear(embed_dim, embed_dim)\n",
        "\n",
        "        # Softmax scaling factor\n",
        "        self.scale = self.head_dim ** -0.5\n",
        "\n",
        "    def forward(self, x):\n",
        "        batch_size, seq_len, embed_dim = x.size()\n",
        "\n",
        "        # Project input to queries, keys, and values\n",
        "        q = self.q_proj(x).view(batch_size, self.num_heads, seq_len, self.head_dim)\n",
        "        k = self.k_proj(x).view(batch_size, self.num_heads, seq_len, self.head_dim)\n",
        "        v = self.v_proj(x).view(batch_size, self.num_heads, seq_len, self.head_dim)\n",
        "\n",
        "        # Compute scaled dot-product attention scores\n",
        "        attn_logits = torch.matmul(q, k.transpose(-2, -1)) * self.scale\n",
        "\n",
        "        # Apply softmax to get attention weights\n",
        "        attn_weights = F.softmax(attn_logits, dim=-1)\n",
        "\n",
        "        # Compute attention output (without selective masking)\n",
        "        attn_output = torch.matmul(attn_weights, v)\n",
        "\n",
        "        # Now, let's introduce the F matrix for selective attention\n",
        "        # Initialize F as zeros, then we'll update it\n",
        "        F_matrix = torch.zeros_like(attn_logits)\n",
        "\n",
        "        # Assume the first attention head decides which tokens to mask\n",
        "        selection_head = attn_weights[:, 0, :, :]  # Taking the first head for simplicity\n",
        "\n",
        "        # Apply ReLU to ensure non-negative masking and accumulate the masking effect\n",
        "        selection_head = F.relu(selection_head)\n",
        "        F_matrix[:, 0, :, :] = selection_head\n",
        "\n",
        "        # Accumulate masking over the sequence length (causal masking for future tokens)\n",
        "        for i in range(1, seq_len):\n",
        "            F_matrix[:, :, i, :] = F_matrix[:, :, i-1, :] + F.relu(attn_logits[:, :, i, :])\n",
        "\n",
        "        # Subtract F from the attention logits to mask irrelevant tokens\n",
        "        masked_attn_logits = attn_logits - F_matrix\n",
        "\n",
        "        # Recompute attention weights with the selective masking applied\n",
        "        masked_attn_weights = F.softmax(masked_attn_logits, dim=-1)\n",
        "\n",
        "        # Compute the final attention output using the masked attention weights\n",
        "        masked_attn_output = torch.matmul(masked_attn_weights, v)\n",
        "\n",
        "        # Reshape and project the output back to the original embedding dimension\n",
        "        masked_attn_output = masked_attn_output.view(batch_size, seq_len, embed_dim)\n",
        "\n",
        "        # Apply the output projection\n",
        "        return self.out_proj(masked_attn_output)\n",
        "\n",
        "# Example usage:\n",
        "batch_size = 2\n",
        "seq_len = 5\n",
        "embed_dim = 64\n",
        "num_heads = 8\n",
        "\n",
        "x = torch.rand(batch_size, seq_len, embed_dim)\n",
        "selective_attention = SelectiveAttention(embed_dim, num_heads)\n",
        "output = selective_attention(x)\n",
        "\n",
        "print(\"Output shape:\", output.shape)"
      ]
    }
  ]
}