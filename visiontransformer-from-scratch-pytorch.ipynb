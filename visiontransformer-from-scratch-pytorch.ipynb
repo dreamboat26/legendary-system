{
 "cells": [
  {
   "cell_type": "code",
   "execution_count": 1,
   "id": "3113d142",
   "metadata": {
    "_cell_guid": "b1076dfc-b9ad-4769-8c92-a6c4dae69d19",
    "_uuid": "8f2839f25d086af736a60e9eeb907d3b93b6e0e5",
    "execution": {
     "iopub.execute_input": "2024-08-14T13:12:02.630297Z",
     "iopub.status.busy": "2024-08-14T13:12:02.629979Z",
     "iopub.status.idle": "2024-08-14T13:12:04.443188Z",
     "shell.execute_reply": "2024-08-14T13:12:04.442440Z"
    },
    "papermill": {
     "duration": 1.826403,
     "end_time": "2024-08-14T13:12:04.445541",
     "exception": false,
     "start_time": "2024-08-14T13:12:02.619138",
     "status": "completed"
    },
    "tags": []
   },
   "outputs": [],
   "source": [
    "import pandas as pd\n",
    "import numpy as np\n",
    "from sklearn.model_selection import train_test_split\n",
    "from tqdm import tqdm"
   ]
  },
  {
   "cell_type": "markdown",
   "id": "b0f9098b",
   "metadata": {
    "papermill": {
     "duration": 0.009163,
     "end_time": "2024-08-14T13:12:04.464281",
     "exception": false,
     "start_time": "2024-08-14T13:12:04.455118",
     "status": "completed"
    },
    "tags": []
   },
   "source": [
    "### Dataset preparation:\n",
    "\n",
    "- Read train dataset\n",
    "- Create validation dataset\n",
    "- Create Pytorch custom dataset preparation class\n",
    "- Create Pytorch dataloaders\n",
    "\n"
   ]
  },
  {
   "cell_type": "code",
   "execution_count": 2,
   "id": "b8379535",
   "metadata": {
    "execution": {
     "iopub.execute_input": "2024-08-14T13:12:04.484208Z",
     "iopub.status.busy": "2024-08-14T13:12:04.483247Z",
     "iopub.status.idle": "2024-08-14T13:12:07.791778Z",
     "shell.execute_reply": "2024-08-14T13:12:07.790699Z"
    },
    "papermill": {
     "duration": 3.321064,
     "end_time": "2024-08-14T13:12:07.794402",
     "exception": false,
     "start_time": "2024-08-14T13:12:04.473338",
     "status": "completed"
    },
    "tags": []
   },
   "outputs": [],
   "source": [
    "train = pd.read_csv('/kaggle/input/digit-recognizer/train.csv')"
   ]
  },
  {
   "cell_type": "code",
   "execution_count": 3,
   "id": "8aab901b",
   "metadata": {
    "execution": {
     "iopub.execute_input": "2024-08-14T13:12:07.816711Z",
     "iopub.status.busy": "2024-08-14T13:12:07.816360Z",
     "iopub.status.idle": "2024-08-14T13:12:07.842255Z",
     "shell.execute_reply": "2024-08-14T13:12:07.841446Z"
    },
    "papermill": {
     "duration": 0.039569,
     "end_time": "2024-08-14T13:12:07.844490",
     "exception": false,
     "start_time": "2024-08-14T13:12:07.804921",
     "status": "completed"
    },
    "tags": []
   },
   "outputs": [
    {
     "data": {
      "text/html": [
       "<div>\n",
       "<style scoped>\n",
       "    .dataframe tbody tr th:only-of-type {\n",
       "        vertical-align: middle;\n",
       "    }\n",
       "\n",
       "    .dataframe tbody tr th {\n",
       "        vertical-align: top;\n",
       "    }\n",
       "\n",
       "    .dataframe thead th {\n",
       "        text-align: right;\n",
       "    }\n",
       "</style>\n",
       "<table border=\"1\" class=\"dataframe\">\n",
       "  <thead>\n",
       "    <tr style=\"text-align: right;\">\n",
       "      <th></th>\n",
       "      <th>label</th>\n",
       "      <th>pixel0</th>\n",
       "      <th>pixel1</th>\n",
       "      <th>pixel2</th>\n",
       "      <th>pixel3</th>\n",
       "      <th>pixel4</th>\n",
       "      <th>pixel5</th>\n",
       "      <th>pixel6</th>\n",
       "      <th>pixel7</th>\n",
       "      <th>pixel8</th>\n",
       "      <th>...</th>\n",
       "      <th>pixel774</th>\n",
       "      <th>pixel775</th>\n",
       "      <th>pixel776</th>\n",
       "      <th>pixel777</th>\n",
       "      <th>pixel778</th>\n",
       "      <th>pixel779</th>\n",
       "      <th>pixel780</th>\n",
       "      <th>pixel781</th>\n",
       "      <th>pixel782</th>\n",
       "      <th>pixel783</th>\n",
       "    </tr>\n",
       "  </thead>\n",
       "  <tbody>\n",
       "    <tr>\n",
       "      <th>0</th>\n",
       "      <td>1</td>\n",
       "      <td>0</td>\n",
       "      <td>0</td>\n",
       "      <td>0</td>\n",
       "      <td>0</td>\n",
       "      <td>0</td>\n",
       "      <td>0</td>\n",
       "      <td>0</td>\n",
       "      <td>0</td>\n",
       "      <td>0</td>\n",
       "      <td>...</td>\n",
       "      <td>0</td>\n",
       "      <td>0</td>\n",
       "      <td>0</td>\n",
       "      <td>0</td>\n",
       "      <td>0</td>\n",
       "      <td>0</td>\n",
       "      <td>0</td>\n",
       "      <td>0</td>\n",
       "      <td>0</td>\n",
       "      <td>0</td>\n",
       "    </tr>\n",
       "    <tr>\n",
       "      <th>1</th>\n",
       "      <td>0</td>\n",
       "      <td>0</td>\n",
       "      <td>0</td>\n",
       "      <td>0</td>\n",
       "      <td>0</td>\n",
       "      <td>0</td>\n",
       "      <td>0</td>\n",
       "      <td>0</td>\n",
       "      <td>0</td>\n",
       "      <td>0</td>\n",
       "      <td>...</td>\n",
       "      <td>0</td>\n",
       "      <td>0</td>\n",
       "      <td>0</td>\n",
       "      <td>0</td>\n",
       "      <td>0</td>\n",
       "      <td>0</td>\n",
       "      <td>0</td>\n",
       "      <td>0</td>\n",
       "      <td>0</td>\n",
       "      <td>0</td>\n",
       "    </tr>\n",
       "    <tr>\n",
       "      <th>2</th>\n",
       "      <td>1</td>\n",
       "      <td>0</td>\n",
       "      <td>0</td>\n",
       "      <td>0</td>\n",
       "      <td>0</td>\n",
       "      <td>0</td>\n",
       "      <td>0</td>\n",
       "      <td>0</td>\n",
       "      <td>0</td>\n",
       "      <td>0</td>\n",
       "      <td>...</td>\n",
       "      <td>0</td>\n",
       "      <td>0</td>\n",
       "      <td>0</td>\n",
       "      <td>0</td>\n",
       "      <td>0</td>\n",
       "      <td>0</td>\n",
       "      <td>0</td>\n",
       "      <td>0</td>\n",
       "      <td>0</td>\n",
       "      <td>0</td>\n",
       "    </tr>\n",
       "    <tr>\n",
       "      <th>3</th>\n",
       "      <td>4</td>\n",
       "      <td>0</td>\n",
       "      <td>0</td>\n",
       "      <td>0</td>\n",
       "      <td>0</td>\n",
       "      <td>0</td>\n",
       "      <td>0</td>\n",
       "      <td>0</td>\n",
       "      <td>0</td>\n",
       "      <td>0</td>\n",
       "      <td>...</td>\n",
       "      <td>0</td>\n",
       "      <td>0</td>\n",
       "      <td>0</td>\n",
       "      <td>0</td>\n",
       "      <td>0</td>\n",
       "      <td>0</td>\n",
       "      <td>0</td>\n",
       "      <td>0</td>\n",
       "      <td>0</td>\n",
       "      <td>0</td>\n",
       "    </tr>\n",
       "    <tr>\n",
       "      <th>4</th>\n",
       "      <td>0</td>\n",
       "      <td>0</td>\n",
       "      <td>0</td>\n",
       "      <td>0</td>\n",
       "      <td>0</td>\n",
       "      <td>0</td>\n",
       "      <td>0</td>\n",
       "      <td>0</td>\n",
       "      <td>0</td>\n",
       "      <td>0</td>\n",
       "      <td>...</td>\n",
       "      <td>0</td>\n",
       "      <td>0</td>\n",
       "      <td>0</td>\n",
       "      <td>0</td>\n",
       "      <td>0</td>\n",
       "      <td>0</td>\n",
       "      <td>0</td>\n",
       "      <td>0</td>\n",
       "      <td>0</td>\n",
       "      <td>0</td>\n",
       "    </tr>\n",
       "  </tbody>\n",
       "</table>\n",
       "<p>5 rows × 785 columns</p>\n",
       "</div>"
      ],
      "text/plain": [
       "   label  pixel0  pixel1  pixel2  pixel3  pixel4  pixel5  pixel6  pixel7  \\\n",
       "0      1       0       0       0       0       0       0       0       0   \n",
       "1      0       0       0       0       0       0       0       0       0   \n",
       "2      1       0       0       0       0       0       0       0       0   \n",
       "3      4       0       0       0       0       0       0       0       0   \n",
       "4      0       0       0       0       0       0       0       0       0   \n",
       "\n",
       "   pixel8  ...  pixel774  pixel775  pixel776  pixel777  pixel778  pixel779  \\\n",
       "0       0  ...         0         0         0         0         0         0   \n",
       "1       0  ...         0         0         0         0         0         0   \n",
       "2       0  ...         0         0         0         0         0         0   \n",
       "3       0  ...         0         0         0         0         0         0   \n",
       "4       0  ...         0         0         0         0         0         0   \n",
       "\n",
       "   pixel780  pixel781  pixel782  pixel783  \n",
       "0         0         0         0         0  \n",
       "1         0         0         0         0  \n",
       "2         0         0         0         0  \n",
       "3         0         0         0         0  \n",
       "4         0         0         0         0  \n",
       "\n",
       "[5 rows x 785 columns]"
      ]
     },
     "execution_count": 3,
     "metadata": {},
     "output_type": "execute_result"
    }
   ],
   "source": [
    "train.head()"
   ]
  },
  {
   "cell_type": "code",
   "execution_count": 4,
   "id": "158ba7b3",
   "metadata": {
    "execution": {
     "iopub.execute_input": "2024-08-14T13:12:07.864295Z",
     "iopub.status.busy": "2024-08-14T13:12:07.864028Z",
     "iopub.status.idle": "2024-08-14T13:12:07.869060Z",
     "shell.execute_reply": "2024-08-14T13:12:07.868254Z"
    },
    "papermill": {
     "duration": 0.017083,
     "end_time": "2024-08-14T13:12:07.871012",
     "exception": false,
     "start_time": "2024-08-14T13:12:07.853929",
     "status": "completed"
    },
    "tags": []
   },
   "outputs": [
    {
     "data": {
      "text/plain": [
       "(42000, 785)"
      ]
     },
     "execution_count": 4,
     "metadata": {},
     "output_type": "execute_result"
    }
   ],
   "source": [
    "train.shape"
   ]
  },
  {
   "cell_type": "code",
   "execution_count": 5,
   "id": "7acd9a1c",
   "metadata": {
    "execution": {
     "iopub.execute_input": "2024-08-14T13:12:07.891259Z",
     "iopub.status.busy": "2024-08-14T13:12:07.890545Z",
     "iopub.status.idle": "2024-08-14T13:12:08.104124Z",
     "shell.execute_reply": "2024-08-14T13:12:08.103088Z"
    },
    "papermill": {
     "duration": 0.22598,
     "end_time": "2024-08-14T13:12:08.106452",
     "exception": false,
     "start_time": "2024-08-14T13:12:07.880472",
     "status": "completed"
    },
    "tags": []
   },
   "outputs": [],
   "source": [
    "train_df , val_df = train_test_split(train,test_size=0.2 , random_state=0,shuffle=True)"
   ]
  },
  {
   "cell_type": "code",
   "execution_count": 6,
   "id": "6274d210",
   "metadata": {
    "execution": {
     "iopub.execute_input": "2024-08-14T13:12:08.127988Z",
     "iopub.status.busy": "2024-08-14T13:12:08.127693Z",
     "iopub.status.idle": "2024-08-14T13:12:13.234425Z",
     "shell.execute_reply": "2024-08-14T13:12:13.233431Z"
    },
    "papermill": {
     "duration": 5.119741,
     "end_time": "2024-08-14T13:12:13.236943",
     "exception": false,
     "start_time": "2024-08-14T13:12:08.117202",
     "status": "completed"
    },
    "tags": []
   },
   "outputs": [],
   "source": [
    "from torch.utils.data import DataLoader, Dataset\n",
    "from torchvision import datasets, transforms"
   ]
  },
  {
   "cell_type": "code",
   "execution_count": 7,
   "id": "43ad9741",
   "metadata": {
    "execution": {
     "iopub.execute_input": "2024-08-14T13:12:13.258466Z",
     "iopub.status.busy": "2024-08-14T13:12:13.257840Z",
     "iopub.status.idle": "2024-08-14T13:12:13.266746Z",
     "shell.execute_reply": "2024-08-14T13:12:13.265896Z"
    },
    "papermill": {
     "duration": 0.021618,
     "end_time": "2024-08-14T13:12:13.268751",
     "exception": false,
     "start_time": "2024-08-14T13:12:13.247133",
     "status": "completed"
    },
    "tags": []
   },
   "outputs": [],
   "source": [
    "class CustomDataset(Dataset):\n",
    "    def __init__(self , data , dataset_type):\n",
    "        self.images = data.iloc[:,1:].values\n",
    "        self.labels = data.iloc[: , 0].values\n",
    "        self.dataset_type = dataset_type\n",
    "        self.train_transform = transforms.Compose([\n",
    "            transforms.ToPILImage(),\n",
    "            transforms.RandomRotation(15),\n",
    "            transforms.ToTensor(),\n",
    "            transforms.Normalize([0.5], [0.5])])\n",
    "        self.valid_transform = transforms.Compose([\n",
    "            transforms.ToPILImage(),\n",
    "            transforms.ToTensor(),\n",
    "            transforms.Normalize([0.5], [0.5])])\n",
    "    \n",
    "    def __len__(self):\n",
    "        return len(self.images)\n",
    "    \n",
    "    def __getitem__(self,idx):\n",
    "        image = self.images[idx].reshape(28,28).astype(np.uint8)\n",
    "        label = self.labels[idx]\n",
    "        if self.dataset_type=='train':\n",
    "            image = self.train_transform(image)\n",
    "        else:\n",
    "            image = self.valid_transform(image)\n",
    "        \n",
    "        return image,label\n",
    "            "
   ]
  },
  {
   "cell_type": "code",
   "execution_count": 8,
   "id": "91b56374",
   "metadata": {
    "execution": {
     "iopub.execute_input": "2024-08-14T13:12:13.288889Z",
     "iopub.status.busy": "2024-08-14T13:12:13.288627Z",
     "iopub.status.idle": "2024-08-14T13:12:13.293807Z",
     "shell.execute_reply": "2024-08-14T13:12:13.292900Z"
    },
    "papermill": {
     "duration": 0.01737,
     "end_time": "2024-08-14T13:12:13.295660",
     "exception": false,
     "start_time": "2024-08-14T13:12:13.278290",
     "status": "completed"
    },
    "tags": []
   },
   "outputs": [],
   "source": [
    "train_ds = CustomDataset(train_df, 'train')\n",
    "valid_ds = CustomDataset(val_df, 'valid')"
   ]
  },
  {
   "cell_type": "code",
   "execution_count": 9,
   "id": "424b09c0",
   "metadata": {
    "execution": {
     "iopub.execute_input": "2024-08-14T13:12:13.316001Z",
     "iopub.status.busy": "2024-08-14T13:12:13.315539Z",
     "iopub.status.idle": "2024-08-14T13:12:13.321036Z",
     "shell.execute_reply": "2024-08-14T13:12:13.320186Z"
    },
    "papermill": {
     "duration": 0.017547,
     "end_time": "2024-08-14T13:12:13.322872",
     "exception": false,
     "start_time": "2024-08-14T13:12:13.305325",
     "status": "completed"
    },
    "tags": []
   },
   "outputs": [
    {
     "data": {
      "text/plain": [
       "(33600, 8400)"
      ]
     },
     "execution_count": 9,
     "metadata": {},
     "output_type": "execute_result"
    }
   ],
   "source": [
    "len(train_ds) , len(valid_ds)"
   ]
  },
  {
   "cell_type": "code",
   "execution_count": 10,
   "id": "bcfa91f2",
   "metadata": {
    "execution": {
     "iopub.execute_input": "2024-08-14T13:12:13.343890Z",
     "iopub.status.busy": "2024-08-14T13:12:13.343087Z",
     "iopub.status.idle": "2024-08-14T13:12:13.351251Z",
     "shell.execute_reply": "2024-08-14T13:12:13.350426Z"
    },
    "papermill": {
     "duration": 0.020461,
     "end_time": "2024-08-14T13:12:13.353142",
     "exception": false,
     "start_time": "2024-08-14T13:12:13.332681",
     "status": "completed"
    },
    "tags": []
   },
   "outputs": [
    {
     "data": {
      "text/plain": [
       "array([0, 1, 2, 3, 4, 5, 6, 7, 8, 9])"
      ]
     },
     "execution_count": 10,
     "metadata": {},
     "output_type": "execute_result"
    }
   ],
   "source": [
    "np.unique(train_ds.labels)"
   ]
  },
  {
   "cell_type": "code",
   "execution_count": 11,
   "id": "cc41a3d3",
   "metadata": {
    "execution": {
     "iopub.execute_input": "2024-08-14T13:12:13.373798Z",
     "iopub.status.busy": "2024-08-14T13:12:13.373518Z",
     "iopub.status.idle": "2024-08-14T13:12:13.378307Z",
     "shell.execute_reply": "2024-08-14T13:12:13.377416Z"
    },
    "papermill": {
     "duration": 0.017256,
     "end_time": "2024-08-14T13:12:13.380193",
     "exception": false,
     "start_time": "2024-08-14T13:12:13.362937",
     "status": "completed"
    },
    "tags": []
   },
   "outputs": [],
   "source": [
    "BATCH_SIZE = 512\n",
    "train_dataloader = DataLoader(dataset=train_ds,\n",
    "                              batch_size=BATCH_SIZE,\n",
    "                              shuffle=True)\n",
    "\n",
    "val_dataloader = DataLoader(dataset=valid_ds,\n",
    "                            batch_size=BATCH_SIZE,\n",
    "                            shuffle=True)"
   ]
  },
  {
   "cell_type": "code",
   "execution_count": 12,
   "id": "23e6ba2e",
   "metadata": {
    "execution": {
     "iopub.execute_input": "2024-08-14T13:12:13.400813Z",
     "iopub.status.busy": "2024-08-14T13:12:13.400539Z",
     "iopub.status.idle": "2024-08-14T13:12:13.637328Z",
     "shell.execute_reply": "2024-08-14T13:12:13.636186Z"
    },
    "papermill": {
     "duration": 0.249834,
     "end_time": "2024-08-14T13:12:13.639798",
     "exception": false,
     "start_time": "2024-08-14T13:12:13.389964",
     "status": "completed"
    },
    "tags": []
   },
   "outputs": [
    {
     "name": "stdout",
     "output_type": "stream",
     "text": [
      "torch.Size([512, 1, 28, 28])\n",
      "torch.Size([512])\n"
     ]
    }
   ],
   "source": [
    "for image,label in train_dataloader:\n",
    "    print(image.shape)\n",
    "    print(label.shape)\n",
    "    break"
   ]
  },
  {
   "cell_type": "markdown",
   "id": "62dedc81",
   "metadata": {
    "papermill": {
     "duration": 0.009728,
     "end_time": "2024-08-14T13:12:13.659768",
     "exception": false,
     "start_time": "2024-08-14T13:12:13.650040",
     "status": "completed"
    },
    "tags": []
   },
   "source": [
    "### Vision Transformer"
   ]
  },
  {
   "cell_type": "code",
   "execution_count": 13,
   "id": "54e60e3a",
   "metadata": {
    "execution": {
     "iopub.execute_input": "2024-08-14T13:12:13.680986Z",
     "iopub.status.busy": "2024-08-14T13:12:13.680281Z",
     "iopub.status.idle": "2024-08-14T13:12:13.684256Z",
     "shell.execute_reply": "2024-08-14T13:12:13.683427Z"
    },
    "papermill": {
     "duration": 0.016473,
     "end_time": "2024-08-14T13:12:13.686066",
     "exception": false,
     "start_time": "2024-08-14T13:12:13.669593",
     "status": "completed"
    },
    "tags": []
   },
   "outputs": [],
   "source": [
    "import torch\n",
    "from torch import nn\n"
   ]
  },
  {
   "cell_type": "markdown",
   "id": "747031d6",
   "metadata": {
    "papermill": {
     "duration": 0.009434,
     "end_time": "2024-08-14T13:12:13.705239",
     "exception": false,
     "start_time": "2024-08-14T13:12:13.695805",
     "status": "completed"
    },
    "tags": []
   },
   "source": [
    "#### Parameters"
   ]
  },
  {
   "cell_type": "code",
   "execution_count": 14,
   "id": "bb254724",
   "metadata": {
    "execution": {
     "iopub.execute_input": "2024-08-14T13:12:13.725755Z",
     "iopub.status.busy": "2024-08-14T13:12:13.725295Z",
     "iopub.status.idle": "2024-08-14T13:12:13.789164Z",
     "shell.execute_reply": "2024-08-14T13:12:13.788375Z"
    },
    "papermill": {
     "duration": 0.076037,
     "end_time": "2024-08-14T13:12:13.790969",
     "exception": false,
     "start_time": "2024-08-14T13:12:13.714932",
     "status": "completed"
    },
    "tags": []
   },
   "outputs": [
    {
     "data": {
      "text/plain": [
       "'cuda'"
      ]
     },
     "execution_count": 14,
     "metadata": {},
     "output_type": "execute_result"
    }
   ],
   "source": [
    "NUM_CLASSES = 10\n",
    "PATCH_SIZE = 4\n",
    "IMG_SIZE = 28\n",
    "IN_CHANNELS = 1\n",
    "NUM_HEADS = 8\n",
    "DROPOUT = 0.001\n",
    "HIDDEN_DIM = 768\n",
    "ACTIVATION=\"gelu\"\n",
    "NUM_ENCODERS = 8\n",
    "EMBED_DIM = (PATCH_SIZE ** 2) * IN_CHANNELS # 16\n",
    "NUM_PATCHES = (IMG_SIZE // PATCH_SIZE) ** 2 # 49\n",
    "\n",
    "device = \"cuda\" if torch.cuda.is_available() else \"cpu\"\n",
    "device"
   ]
  },
  {
   "cell_type": "markdown",
   "id": "61ddc554",
   "metadata": {
    "papermill": {
     "duration": 0.009751,
     "end_time": "2024-08-14T13:12:13.810655",
     "exception": false,
     "start_time": "2024-08-14T13:12:13.800904",
     "status": "completed"
    },
    "tags": []
   },
   "source": [
    "#### PatchEmbedding class"
   ]
  },
  {
   "cell_type": "code",
   "execution_count": 15,
   "id": "ac29c683",
   "metadata": {
    "execution": {
     "iopub.execute_input": "2024-08-14T13:12:13.831485Z",
     "iopub.status.busy": "2024-08-14T13:12:13.831187Z",
     "iopub.status.idle": "2024-08-14T13:12:13.982001Z",
     "shell.execute_reply": "2024-08-14T13:12:13.981226Z"
    },
    "papermill": {
     "duration": 0.163793,
     "end_time": "2024-08-14T13:12:13.984338",
     "exception": false,
     "start_time": "2024-08-14T13:12:13.820545",
     "status": "completed"
    },
    "tags": []
   },
   "outputs": [],
   "source": [
    "class PatchEmbedding(nn.Module):\n",
    "    def __init__(self, embed_dim, patch_size, num_patches, dropout, in_channels):\n",
    "        super().__init__()\n",
    "        self.patcher = nn.Sequential(\n",
    "            nn.Conv2d(\n",
    "                in_channels=in_channels,\n",
    "                out_channels=embed_dim,\n",
    "                kernel_size=patch_size,\n",
    "                stride=patch_size,\n",
    "            ),                  \n",
    "            nn.Flatten(2))\n",
    "\n",
    "        self.cls_token = nn.Parameter(torch.randn(size=(1, 1, embed_dim)), requires_grad=True)\n",
    "        self.position_embeddings = nn.Parameter(torch.randn(size=(1, num_patches+1, embed_dim)), requires_grad=True)\n",
    "        self.dropout = nn.Dropout(p=dropout)\n",
    "\n",
    "    def forward(self, x):\n",
    "        cls_token = self.cls_token.expand(x.shape[0], -1, -1)\n",
    "\n",
    "        x = self.patcher(x).permute(0, 2, 1)\n",
    "        x = torch.cat([cls_token, x], dim=1)\n",
    "        x = self.position_embeddings + x \n",
    "        x = self.dropout(x)\n",
    "        return x\n",
    "    \n",
    "model = PatchEmbedding(EMBED_DIM, PATCH_SIZE, NUM_PATCHES, DROPOUT, IN_CHANNELS).to(device)"
   ]
  },
  {
   "cell_type": "code",
   "execution_count": 16,
   "id": "45e0fa55",
   "metadata": {
    "execution": {
     "iopub.execute_input": "2024-08-14T13:12:14.006391Z",
     "iopub.status.busy": "2024-08-14T13:12:14.006094Z",
     "iopub.status.idle": "2024-08-14T13:12:14.011576Z",
     "shell.execute_reply": "2024-08-14T13:12:14.010785Z"
    },
    "papermill": {
     "duration": 0.018439,
     "end_time": "2024-08-14T13:12:14.013503",
     "exception": false,
     "start_time": "2024-08-14T13:12:13.995064",
     "status": "completed"
    },
    "tags": []
   },
   "outputs": [
    {
     "data": {
      "text/plain": [
       "torch.Size([512, 1, 28, 28])"
      ]
     },
     "execution_count": 16,
     "metadata": {},
     "output_type": "execute_result"
    }
   ],
   "source": [
    "image.shape"
   ]
  },
  {
   "cell_type": "code",
   "execution_count": 17,
   "id": "a721ef31",
   "metadata": {
    "execution": {
     "iopub.execute_input": "2024-08-14T13:12:14.034976Z",
     "iopub.status.busy": "2024-08-14T13:12:14.034718Z",
     "iopub.status.idle": "2024-08-14T13:12:14.492250Z",
     "shell.execute_reply": "2024-08-14T13:12:14.491450Z"
    },
    "papermill": {
     "duration": 0.470799,
     "end_time": "2024-08-14T13:12:14.494582",
     "exception": false,
     "start_time": "2024-08-14T13:12:14.023783",
     "status": "completed"
    },
    "tags": []
   },
   "outputs": [],
   "source": [
    "model.eval()\n",
    "patched = model(image.to(device))"
   ]
  },
  {
   "cell_type": "code",
   "execution_count": 18,
   "id": "700262ec",
   "metadata": {
    "execution": {
     "iopub.execute_input": "2024-08-14T13:12:14.516214Z",
     "iopub.status.busy": "2024-08-14T13:12:14.515950Z",
     "iopub.status.idle": "2024-08-14T13:12:14.521383Z",
     "shell.execute_reply": "2024-08-14T13:12:14.520567Z"
    },
    "papermill": {
     "duration": 0.018361,
     "end_time": "2024-08-14T13:12:14.523365",
     "exception": false,
     "start_time": "2024-08-14T13:12:14.505004",
     "status": "completed"
    },
    "tags": []
   },
   "outputs": [
    {
     "data": {
      "text/plain": [
       "torch.Size([512, 50, 16])"
      ]
     },
     "execution_count": 18,
     "metadata": {},
     "output_type": "execute_result"
    }
   ],
   "source": [
    "patched.shape"
   ]
  },
  {
   "cell_type": "markdown",
   "id": "d8a61d6f",
   "metadata": {
    "papermill": {
     "duration": 0.009925,
     "end_time": "2024-08-14T13:12:14.543688",
     "exception": false,
     "start_time": "2024-08-14T13:12:14.533763",
     "status": "completed"
    },
    "tags": []
   },
   "source": [
    "#### Vision Transformer"
   ]
  },
  {
   "cell_type": "code",
   "execution_count": 19,
   "id": "7885aba9",
   "metadata": {
    "execution": {
     "iopub.execute_input": "2024-08-14T13:12:14.565057Z",
     "iopub.status.busy": "2024-08-14T13:12:14.564809Z",
     "iopub.status.idle": "2024-08-14T13:12:14.572075Z",
     "shell.execute_reply": "2024-08-14T13:12:14.571304Z"
    },
    "papermill": {
     "duration": 0.019985,
     "end_time": "2024-08-14T13:12:14.573958",
     "exception": false,
     "start_time": "2024-08-14T13:12:14.553973",
     "status": "completed"
    },
    "tags": []
   },
   "outputs": [],
   "source": [
    "class VissionTransformer(nn.Module):\n",
    "    def __init__(self, num_patches, img_size, num_classes, patch_size, embed_dim, num_encoders, \n",
    "                 num_heads, hidden_dim, dropout, activation, in_channels):\n",
    "        super().__init__()\n",
    "        self.embeddings_block = PatchEmbedding(embed_dim, patch_size, num_patches, dropout, in_channels)\n",
    "        \n",
    "        encoder_layer = nn.TransformerEncoderLayer(d_model=embed_dim, nhead=num_heads, dropout=dropout, \n",
    "                                                   activation=activation, batch_first=True, norm_first=True)\n",
    "        self.encoder_blocks = nn.TransformerEncoder(encoder_layer, num_layers=num_encoders)\n",
    "\n",
    "        self.mlp_head = nn.Sequential(\n",
    "            nn.LayerNorm(normalized_shape=embed_dim),\n",
    "            nn.Linear(in_features=embed_dim, out_features=num_classes)\n",
    "        )\n",
    "\n",
    "    def forward(self, x):\n",
    "        x = self.embeddings_block(x)    # Patch embedding blocks\n",
    "        x = self.encoder_blocks(x)     # Encoder blocker with Multi-head attention\n",
    "        x = self.mlp_head(x[:, 0, :])  # Apply classification on the CLS token only - MLP layer\n",
    "        return x"
   ]
  },
  {
   "cell_type": "code",
   "execution_count": 20,
   "id": "3c340810",
   "metadata": {
    "execution": {
     "iopub.execute_input": "2024-08-14T13:12:14.595096Z",
     "iopub.status.busy": "2024-08-14T13:12:14.594829Z",
     "iopub.status.idle": "2024-08-14T13:12:14.621947Z",
     "shell.execute_reply": "2024-08-14T13:12:14.621135Z"
    },
    "papermill": {
     "duration": 0.039966,
     "end_time": "2024-08-14T13:12:14.623949",
     "exception": false,
     "start_time": "2024-08-14T13:12:14.583983",
     "status": "completed"
    },
    "tags": []
   },
   "outputs": [
    {
     "name": "stderr",
     "output_type": "stream",
     "text": [
      "/opt/conda/lib/python3.10/site-packages/torch/nn/modules/transformer.py:282: UserWarning: enable_nested_tensor is True, but self.use_nested_tensor is False because encoder_layer.norm_first was True\n",
      "  warnings.warn(f\"enable_nested_tensor is True, but self.use_nested_tensor is False because {why_not_sparsity_fast_path}\")\n"
     ]
    }
   ],
   "source": [
    "model = VissionTransformer(NUM_PATCHES, IMG_SIZE, NUM_CLASSES, PATCH_SIZE, EMBED_DIM,\n",
    "                           NUM_ENCODERS, NUM_HEADS, HIDDEN_DIM,\n",
    "                           DROPOUT, ACTIVATION, IN_CHANNELS).to(device)"
   ]
  },
  {
   "cell_type": "code",
   "execution_count": 21,
   "id": "47df7ff7",
   "metadata": {
    "execution": {
     "iopub.execute_input": "2024-08-14T13:12:14.645518Z",
     "iopub.status.busy": "2024-08-14T13:12:14.645035Z",
     "iopub.status.idle": "2024-08-14T13:12:14.724992Z",
     "shell.execute_reply": "2024-08-14T13:12:14.724087Z"
    },
    "papermill": {
     "duration": 0.092879,
     "end_time": "2024-08-14T13:12:14.727112",
     "exception": false,
     "start_time": "2024-08-14T13:12:14.634233",
     "status": "completed"
    },
    "tags": []
   },
   "outputs": [],
   "source": [
    "model.eval()\n",
    "mpl_output = model(image.to(device))"
   ]
  },
  {
   "cell_type": "code",
   "execution_count": 22,
   "id": "f65fe001",
   "metadata": {
    "execution": {
     "iopub.execute_input": "2024-08-14T13:12:14.748624Z",
     "iopub.status.busy": "2024-08-14T13:12:14.748325Z",
     "iopub.status.idle": "2024-08-14T13:12:14.753587Z",
     "shell.execute_reply": "2024-08-14T13:12:14.752748Z"
    },
    "papermill": {
     "duration": 0.017953,
     "end_time": "2024-08-14T13:12:14.755425",
     "exception": false,
     "start_time": "2024-08-14T13:12:14.737472",
     "status": "completed"
    },
    "tags": []
   },
   "outputs": [
    {
     "data": {
      "text/plain": [
       "torch.Size([512, 10])"
      ]
     },
     "execution_count": 22,
     "metadata": {},
     "output_type": "execute_result"
    }
   ],
   "source": [
    "mpl_output.shape"
   ]
  },
  {
   "cell_type": "code",
   "execution_count": 23,
   "id": "b0cf18d5",
   "metadata": {
    "execution": {
     "iopub.execute_input": "2024-08-14T13:12:14.776903Z",
     "iopub.status.busy": "2024-08-14T13:12:14.776621Z",
     "iopub.status.idle": "2024-08-14T13:12:14.988317Z",
     "shell.execute_reply": "2024-08-14T13:12:14.987432Z"
    },
    "papermill": {
     "duration": 0.224631,
     "end_time": "2024-08-14T13:12:14.990348",
     "exception": false,
     "start_time": "2024-08-14T13:12:14.765717",
     "status": "completed"
    },
    "tags": []
   },
   "outputs": [
    {
     "data": {
      "text/plain": [
       "tensor([ 0.4043, -0.1069, -0.8049,  0.9896,  0.0604, -1.1779, -0.1905,  0.4683,\n",
       "         0.5640, -0.6701], device='cuda:0', grad_fn=<SelectBackward0>)"
      ]
     },
     "execution_count": 23,
     "metadata": {},
     "output_type": "execute_result"
    }
   ],
   "source": [
    "mpl_output[0]"
   ]
  },
  {
   "cell_type": "markdown",
   "id": "fb7243b3",
   "metadata": {
    "papermill": {
     "duration": 0.010231,
     "end_time": "2024-08-14T13:12:15.011384",
     "exception": false,
     "start_time": "2024-08-14T13:12:15.001153",
     "status": "completed"
    },
    "tags": []
   },
   "source": [
    "### Loss function and Optimizer"
   ]
  },
  {
   "cell_type": "code",
   "execution_count": 24,
   "id": "9003e251",
   "metadata": {
    "execution": {
     "iopub.execute_input": "2024-08-14T13:12:15.034170Z",
     "iopub.status.busy": "2024-08-14T13:12:15.033856Z",
     "iopub.status.idle": "2024-08-14T13:12:15.038719Z",
     "shell.execute_reply": "2024-08-14T13:12:15.037913Z"
    },
    "papermill": {
     "duration": 0.01839,
     "end_time": "2024-08-14T13:12:15.040631",
     "exception": false,
     "start_time": "2024-08-14T13:12:15.022241",
     "status": "completed"
    },
    "tags": []
   },
   "outputs": [],
   "source": [
    "# loss function and optimizer\n",
    "criterion = nn.CrossEntropyLoss()\n",
    "optimizer = torch.optim.Adam(model.parameters(), lr=0.001)"
   ]
  },
  {
   "cell_type": "markdown",
   "id": "b9e8e89f",
   "metadata": {
    "papermill": {
     "duration": 0.010394,
     "end_time": "2024-08-14T13:12:15.061746",
     "exception": false,
     "start_time": "2024-08-14T13:12:15.051352",
     "status": "completed"
    },
    "tags": []
   },
   "source": [
    "### Model Training"
   ]
  },
  {
   "cell_type": "code",
   "execution_count": 25,
   "id": "868654cc",
   "metadata": {
    "execution": {
     "iopub.execute_input": "2024-08-14T13:12:15.084116Z",
     "iopub.status.busy": "2024-08-14T13:12:15.083797Z",
     "iopub.status.idle": "2024-08-14T13:45:40.463741Z",
     "shell.execute_reply": "2024-08-14T13:45:40.462819Z"
    },
    "papermill": {
     "duration": 2005.422644,
     "end_time": "2024-08-14T13:45:40.494965",
     "exception": false,
     "start_time": "2024-08-14T13:12:15.072321",
     "status": "completed"
    },
    "tags": []
   },
   "outputs": [
    {
     "name": "stderr",
     "output_type": "stream",
     "text": [
      "  1%|          | 1/100 [00:20<33:47, 20.48s/it]"
     ]
    },
    {
     "name": "stdout",
     "output_type": "stream",
     "text": [
      "Epoch: 0 Training Loss:  2.3074351621396616 Valid Loss:  2.2789344647351433\n"
     ]
    },
    {
     "name": "stderr",
     "output_type": "stream",
     "text": [
      "  2%|▏         | 2/100 [00:40<33:14, 20.35s/it]"
     ]
    },
    {
     "name": "stdout",
     "output_type": "stream",
     "text": [
      "Epoch: 1 Training Loss:  2.0736881295839944 Valid Loss:  1.8663071534212898\n"
     ]
    },
    {
     "name": "stderr",
     "output_type": "stream",
     "text": [
      "  3%|▎         | 3/100 [01:00<32:36, 20.17s/it]"
     ]
    },
    {
     "name": "stdout",
     "output_type": "stream",
     "text": [
      "Epoch: 2 Training Loss:  1.530078933094487 Valid Loss:  1.2056716820772957\n"
     ]
    },
    {
     "name": "stderr",
     "output_type": "stream",
     "text": [
      "  4%|▍         | 4/100 [01:20<32:12, 20.13s/it]"
     ]
    },
    {
     "name": "stdout",
     "output_type": "stream",
     "text": [
      "Epoch: 3 Training Loss:  1.030517140121171 Valid Loss:  0.7714457126224742\n"
     ]
    },
    {
     "name": "stderr",
     "output_type": "stream",
     "text": [
      "  5%|▌         | 5/100 [01:40<31:48, 20.09s/it]"
     ]
    },
    {
     "name": "stdout",
     "output_type": "stream",
     "text": [
      "Epoch: 4 Training Loss:  0.71224056410067 Valid Loss:  0.5390141834230984\n"
     ]
    },
    {
     "name": "stderr",
     "output_type": "stream",
     "text": [
      "  6%|▌         | 6/100 [02:01<31:32, 20.13s/it]"
     ]
    },
    {
     "name": "stdout",
     "output_type": "stream",
     "text": [
      "Epoch: 5 Training Loss:  0.5409891447334578 Valid Loss:  0.39325466927360087\n"
     ]
    },
    {
     "name": "stderr",
     "output_type": "stream",
     "text": [
      "  7%|▋         | 7/100 [02:21<31:13, 20.15s/it]"
     ]
    },
    {
     "name": "stdout",
     "output_type": "stream",
     "text": [
      "Epoch: 6 Training Loss:  0.4253506976546663 Valid Loss:  0.3614175617694855\n"
     ]
    },
    {
     "name": "stderr",
     "output_type": "stream",
     "text": [
      "  8%|▊         | 8/100 [02:41<30:51, 20.12s/it]"
     ]
    },
    {
     "name": "stdout",
     "output_type": "stream",
     "text": [
      "Epoch: 7 Training Loss:  0.3887406849499905 Valid Loss:  0.3061814045204836\n"
     ]
    },
    {
     "name": "stderr",
     "output_type": "stream",
     "text": [
      "  9%|▉         | 9/100 [03:01<30:31, 20.12s/it]"
     ]
    },
    {
     "name": "stdout",
     "output_type": "stream",
     "text": [
      "Epoch: 8 Training Loss:  0.3381983244960958 Valid Loss:  0.2824194238466375\n"
     ]
    },
    {
     "name": "stderr",
     "output_type": "stream",
     "text": [
      " 10%|█         | 10/100 [03:21<30:08, 20.10s/it]"
     ]
    },
    {
     "name": "stdout",
     "output_type": "stream",
     "text": [
      "Epoch: 9 Training Loss:  0.3049949242761641 Valid Loss:  0.23561030976912556\n"
     ]
    },
    {
     "name": "stderr",
     "output_type": "stream",
     "text": [
      " 11%|█         | 11/100 [03:41<29:46, 20.08s/it]"
     ]
    },
    {
     "name": "stdout",
     "output_type": "stream",
     "text": [
      "Epoch: 10 Training Loss:  0.28319574599013186 Valid Loss:  0.20131764604764826\n"
     ]
    },
    {
     "name": "stderr",
     "output_type": "stream",
     "text": [
      " 12%|█▏        | 12/100 [04:01<29:23, 20.04s/it]"
     ]
    },
    {
     "name": "stdout",
     "output_type": "stream",
     "text": [
      "Epoch: 11 Training Loss:  0.24987637341925592 Valid Loss:  0.23283340913407943\n"
     ]
    },
    {
     "name": "stderr",
     "output_type": "stream",
     "text": [
      " 13%|█▎        | 13/100 [04:21<29:02, 20.03s/it]"
     ]
    },
    {
     "name": "stdout",
     "output_type": "stream",
     "text": [
      "Epoch: 12 Training Loss:  0.2387906556779688 Valid Loss:  0.21184723955743454\n"
     ]
    },
    {
     "name": "stderr",
     "output_type": "stream",
     "text": [
      " 14%|█▍        | 14/100 [04:41<28:43, 20.04s/it]"
     ]
    },
    {
     "name": "stdout",
     "output_type": "stream",
     "text": [
      "Epoch: 13 Training Loss:  0.22102367674762552 Valid Loss:  0.1783640849239686\n"
     ]
    },
    {
     "name": "stderr",
     "output_type": "stream",
     "text": [
      " 15%|█▌        | 15/100 [05:01<28:20, 20.01s/it]"
     ]
    },
    {
     "name": "stdout",
     "output_type": "stream",
     "text": [
      "Epoch: 14 Training Loss:  0.20318910682743246 Valid Loss:  0.154226756271194\n"
     ]
    },
    {
     "name": "stderr",
     "output_type": "stream",
     "text": [
      " 16%|█▌        | 16/100 [05:21<28:00, 20.01s/it]"
     ]
    },
    {
     "name": "stdout",
     "output_type": "stream",
     "text": [
      "Epoch: 15 Training Loss:  0.19320184218161035 Valid Loss:  0.1531410747591187\n"
     ]
    },
    {
     "name": "stderr",
     "output_type": "stream",
     "text": [
      " 17%|█▋        | 17/100 [05:41<27:42, 20.03s/it]"
     ]
    },
    {
     "name": "stdout",
     "output_type": "stream",
     "text": [
      "Epoch: 16 Training Loss:  0.18703130023045975 Valid Loss:  0.15204970188000622\n"
     ]
    },
    {
     "name": "stderr",
     "output_type": "stream",
     "text": [
      " 18%|█▊        | 18/100 [06:01<27:27, 20.09s/it]"
     ]
    },
    {
     "name": "stdout",
     "output_type": "stream",
     "text": [
      "Epoch: 17 Training Loss:  0.17726860037355713 Valid Loss:  0.13697503507137299\n"
     ]
    },
    {
     "name": "stderr",
     "output_type": "stream",
     "text": [
      " 19%|█▉        | 19/100 [06:21<27:07, 20.09s/it]"
     ]
    },
    {
     "name": "stdout",
     "output_type": "stream",
     "text": [
      "Epoch: 18 Training Loss:  0.17865307888749873 Valid Loss:  0.14563955498092315\n"
     ]
    },
    {
     "name": "stderr",
     "output_type": "stream",
     "text": [
      " 20%|██        | 20/100 [06:41<26:48, 20.11s/it]"
     ]
    },
    {
     "name": "stdout",
     "output_type": "stream",
     "text": [
      "Epoch: 19 Training Loss:  0.1657599126073447 Valid Loss:  0.14200054722673752\n"
     ]
    },
    {
     "name": "stderr",
     "output_type": "stream",
     "text": [
      " 21%|██        | 21/100 [07:02<26:27, 20.10s/it]"
     ]
    },
    {
     "name": "stdout",
     "output_type": "stream",
     "text": [
      "Epoch: 20 Training Loss:  0.1616513647816398 Valid Loss:  0.14421745477353826\n"
     ]
    },
    {
     "name": "stderr",
     "output_type": "stream",
     "text": [
      " 22%|██▏       | 22/100 [07:21<26:02, 20.03s/it]"
     ]
    },
    {
     "name": "stdout",
     "output_type": "stream",
     "text": [
      "Epoch: 21 Training Loss:  0.15216465813644003 Valid Loss:  0.1326837859609548\n"
     ]
    },
    {
     "name": "stderr",
     "output_type": "stream",
     "text": [
      " 23%|██▎       | 23/100 [07:41<25:41, 20.02s/it]"
     ]
    },
    {
     "name": "stdout",
     "output_type": "stream",
     "text": [
      "Epoch: 22 Training Loss:  0.154277023605325 Valid Loss:  0.13087759210782893\n"
     ]
    },
    {
     "name": "stderr",
     "output_type": "stream",
     "text": [
      " 24%|██▍       | 24/100 [08:02<25:24, 20.05s/it]"
     ]
    },
    {
     "name": "stdout",
     "output_type": "stream",
     "text": [
      "Epoch: 23 Training Loss:  0.1458489972759377 Valid Loss:  0.11473656138953041\n"
     ]
    },
    {
     "name": "stderr",
     "output_type": "stream",
     "text": [
      " 25%|██▌       | 25/100 [08:21<24:59, 19.99s/it]"
     ]
    },
    {
     "name": "stdout",
     "output_type": "stream",
     "text": [
      "Epoch: 24 Training Loss:  0.14276967005747737 Valid Loss:  0.1282327100634575\n"
     ]
    },
    {
     "name": "stderr",
     "output_type": "stream",
     "text": [
      " 26%|██▌       | 26/100 [08:41<24:36, 19.96s/it]"
     ]
    },
    {
     "name": "stdout",
     "output_type": "stream",
     "text": [
      "Epoch: 25 Training Loss:  0.13918274584593196 Valid Loss:  0.11745885102187886\n"
     ]
    },
    {
     "name": "stderr",
     "output_type": "stream",
     "text": [
      " 27%|██▋       | 27/100 [09:01<24:16, 19.95s/it]"
     ]
    },
    {
     "name": "stdout",
     "output_type": "stream",
     "text": [
      "Epoch: 26 Training Loss:  0.12814083006797414 Valid Loss:  0.11072445266387042\n"
     ]
    },
    {
     "name": "stderr",
     "output_type": "stream",
     "text": [
      " 28%|██▊       | 28/100 [09:21<23:54, 19.93s/it]"
     ]
    },
    {
     "name": "stdout",
     "output_type": "stream",
     "text": [
      "Epoch: 27 Training Loss:  0.12523015599810716 Valid Loss:  0.11547478419892929\n"
     ]
    },
    {
     "name": "stderr",
     "output_type": "stream",
     "text": [
      " 29%|██▉       | 29/100 [09:41<23:33, 19.91s/it]"
     ]
    },
    {
     "name": "stdout",
     "output_type": "stream",
     "text": [
      "Epoch: 28 Training Loss:  0.12422902328949986 Valid Loss:  0.11092601563124095\n"
     ]
    },
    {
     "name": "stderr",
     "output_type": "stream",
     "text": [
      " 30%|███       | 30/100 [10:01<23:15, 19.94s/it]"
     ]
    },
    {
     "name": "stdout",
     "output_type": "stream",
     "text": [
      "Epoch: 29 Training Loss:  0.11633546232725635 Valid Loss:  0.1141378634116229\n"
     ]
    },
    {
     "name": "stderr",
     "output_type": "stream",
     "text": [
      " 31%|███       | 31/100 [10:21<22:58, 19.97s/it]"
     ]
    },
    {
     "name": "stdout",
     "output_type": "stream",
     "text": [
      "Epoch: 30 Training Loss:  0.12198439579118382 Valid Loss:  0.10264060733949437\n"
     ]
    },
    {
     "name": "stderr",
     "output_type": "stream",
     "text": [
      " 32%|███▏      | 32/100 [10:41<22:45, 20.08s/it]"
     ]
    },
    {
     "name": "stdout",
     "output_type": "stream",
     "text": [
      "Epoch: 31 Training Loss:  0.11090980758043853 Valid Loss:  0.10017765751656364\n"
     ]
    },
    {
     "name": "stderr",
     "output_type": "stream",
     "text": [
      " 33%|███▎      | 33/100 [11:01<22:22, 20.04s/it]"
     ]
    },
    {
     "name": "stdout",
     "output_type": "stream",
     "text": [
      "Epoch: 32 Training Loss:  0.10835015965682088 Valid Loss:  0.09450072181575439\n"
     ]
    },
    {
     "name": "stderr",
     "output_type": "stream",
     "text": [
      " 34%|███▍      | 34/100 [11:21<21:59, 20.00s/it]"
     ]
    },
    {
     "name": "stdout",
     "output_type": "stream",
     "text": [
      "Epoch: 33 Training Loss:  0.10978094595625545 Valid Loss:  0.09777447756598978\n"
     ]
    },
    {
     "name": "stderr",
     "output_type": "stream",
     "text": [
      " 35%|███▌      | 35/100 [11:41<21:39, 20.00s/it]"
     ]
    },
    {
     "name": "stdout",
     "output_type": "stream",
     "text": [
      "Epoch: 34 Training Loss:  0.10706373699235194 Valid Loss:  0.11381940894267138\n"
     ]
    },
    {
     "name": "stderr",
     "output_type": "stream",
     "text": [
      " 36%|███▌      | 36/100 [12:01<21:21, 20.02s/it]"
     ]
    },
    {
     "name": "stdout",
     "output_type": "stream",
     "text": [
      "Epoch: 35 Training Loss:  0.10475393395983812 Valid Loss:  0.09637174054103739\n"
     ]
    },
    {
     "name": "stderr",
     "output_type": "stream",
     "text": [
      " 37%|███▋      | 37/100 [12:21<21:00, 20.01s/it]"
     ]
    },
    {
     "name": "stdout",
     "output_type": "stream",
     "text": [
      "Epoch: 36 Training Loss:  0.10478957635209415 Valid Loss:  0.09436714824508219\n"
     ]
    },
    {
     "name": "stderr",
     "output_type": "stream",
     "text": [
      " 38%|███▊      | 38/100 [12:41<20:38, 19.97s/it]"
     ]
    },
    {
     "name": "stdout",
     "output_type": "stream",
     "text": [
      "Epoch: 37 Training Loss:  0.1037956876398036 Valid Loss:  0.0935365003259743\n"
     ]
    },
    {
     "name": "stderr",
     "output_type": "stream",
     "text": [
      " 39%|███▉      | 39/100 [13:01<20:16, 19.94s/it]"
     ]
    },
    {
     "name": "stdout",
     "output_type": "stream",
     "text": [
      "Epoch: 38 Training Loss:  0.0987650566367489 Valid Loss:  0.0911190110970946\n"
     ]
    },
    {
     "name": "stderr",
     "output_type": "stream",
     "text": [
      " 40%|████      | 40/100 [13:21<19:56, 19.94s/it]"
     ]
    },
    {
     "name": "stdout",
     "output_type": "stream",
     "text": [
      "Epoch: 39 Training Loss:  0.1036397847488071 Valid Loss:  0.09840014796046649\n"
     ]
    },
    {
     "name": "stderr",
     "output_type": "stream",
     "text": [
      " 41%|████      | 41/100 [13:41<19:36, 19.95s/it]"
     ]
    },
    {
     "name": "stdout",
     "output_type": "stream",
     "text": [
      "Epoch: 40 Training Loss:  0.09251512705602428 Valid Loss:  0.08683148705784012\n"
     ]
    },
    {
     "name": "stderr",
     "output_type": "stream",
     "text": [
      " 42%|████▏     | 42/100 [14:01<19:14, 19.90s/it]"
     ]
    },
    {
     "name": "stdout",
     "output_type": "stream",
     "text": [
      "Epoch: 41 Training Loss:  0.0905681751442678 Valid Loss:  0.08110525700099327\n"
     ]
    },
    {
     "name": "stderr",
     "output_type": "stream",
     "text": [
      " 43%|████▎     | 43/100 [14:21<18:55, 19.92s/it]"
     ]
    },
    {
     "name": "stdout",
     "output_type": "stream",
     "text": [
      "Epoch: 42 Training Loss:  0.09001318624976909 Valid Loss:  0.09383908944094882\n"
     ]
    },
    {
     "name": "stderr",
     "output_type": "stream",
     "text": [
      " 44%|████▍     | 44/100 [14:41<18:38, 19.97s/it]"
     ]
    },
    {
     "name": "stdout",
     "output_type": "stream",
     "text": [
      "Epoch: 43 Training Loss:  0.08561638590287078 Valid Loss:  0.09360727580154643\n"
     ]
    },
    {
     "name": "stderr",
     "output_type": "stream",
     "text": [
      " 45%|████▌     | 45/100 [15:01<18:18, 19.97s/it]"
     ]
    },
    {
     "name": "stdout",
     "output_type": "stream",
     "text": [
      "Epoch: 44 Training Loss:  0.0893322318566568 Valid Loss:  0.09191804817494224\n"
     ]
    },
    {
     "name": "stderr",
     "output_type": "stream",
     "text": [
      " 46%|████▌     | 46/100 [15:21<18:00, 20.01s/it]"
     ]
    },
    {
     "name": "stdout",
     "output_type": "stream",
     "text": [
      "Epoch: 45 Training Loss:  0.08870207185320782 Valid Loss:  0.08942620127516634\n"
     ]
    },
    {
     "name": "stderr",
     "output_type": "stream",
     "text": [
      " 47%|████▋     | 47/100 [15:41<17:38, 19.97s/it]"
     ]
    },
    {
     "name": "stdout",
     "output_type": "stream",
     "text": [
      "Epoch: 46 Training Loss:  0.08590622872791508 Valid Loss:  0.08203226634684731\n"
     ]
    },
    {
     "name": "stderr",
     "output_type": "stream",
     "text": [
      " 48%|████▊     | 48/100 [16:01<17:16, 19.93s/it]"
     ]
    },
    {
     "name": "stdout",
     "output_type": "stream",
     "text": [
      "Epoch: 47 Training Loss:  0.08784733904582082 Valid Loss:  0.09289622241083313\n"
     ]
    },
    {
     "name": "stderr",
     "output_type": "stream",
     "text": [
      " 49%|████▉     | 49/100 [16:20<16:54, 19.89s/it]"
     ]
    },
    {
     "name": "stdout",
     "output_type": "stream",
     "text": [
      "Epoch: 48 Training Loss:  0.08240732561909792 Valid Loss:  0.0801737174830016\n"
     ]
    },
    {
     "name": "stderr",
     "output_type": "stream",
     "text": [
      " 50%|█████     | 50/100 [16:40<16:33, 19.88s/it]"
     ]
    },
    {
     "name": "stdout",
     "output_type": "stream",
     "text": [
      "Epoch: 49 Training Loss:  0.0835983408897212 Valid Loss:  0.07776887386160738\n"
     ]
    },
    {
     "name": "stderr",
     "output_type": "stream",
     "text": [
      " 51%|█████     | 51/100 [17:00<16:15, 19.90s/it]"
     ]
    },
    {
     "name": "stdout",
     "output_type": "stream",
     "text": [
      "Epoch: 50 Training Loss:  0.08213176967745478 Valid Loss:  0.07986840408514528\n"
     ]
    },
    {
     "name": "stderr",
     "output_type": "stream",
     "text": [
      " 52%|█████▏    | 52/100 [17:20<16:01, 20.02s/it]"
     ]
    },
    {
     "name": "stdout",
     "output_type": "stream",
     "text": [
      "Epoch: 51 Training Loss:  0.07651378513511384 Valid Loss:  0.08000511215890155\n"
     ]
    },
    {
     "name": "stderr",
     "output_type": "stream",
     "text": [
      " 53%|█████▎    | 53/100 [17:41<15:41, 20.04s/it]"
     ]
    },
    {
     "name": "stdout",
     "output_type": "stream",
     "text": [
      "Epoch: 52 Training Loss:  0.07811328593754407 Valid Loss:  0.07851962789016612\n"
     ]
    },
    {
     "name": "stderr",
     "output_type": "stream",
     "text": [
      " 54%|█████▍    | 54/100 [18:01<15:27, 20.17s/it]"
     ]
    },
    {
     "name": "stdout",
     "output_type": "stream",
     "text": [
      "Epoch: 53 Training Loss:  0.0765594674104994 Valid Loss:  0.09099153253962011\n"
     ]
    },
    {
     "name": "stderr",
     "output_type": "stream",
     "text": [
      " 55%|█████▌    | 55/100 [18:21<15:09, 20.22s/it]"
     ]
    },
    {
     "name": "stdout",
     "output_type": "stream",
     "text": [
      "Epoch: 54 Training Loss:  0.07881517533325788 Valid Loss:  0.07637968615573995\n"
     ]
    },
    {
     "name": "stderr",
     "output_type": "stream",
     "text": [
      " 56%|█████▌    | 56/100 [18:42<14:49, 20.21s/it]"
     ]
    },
    {
     "name": "stdout",
     "output_type": "stream",
     "text": [
      "Epoch: 55 Training Loss:  0.0735961738409418 Valid Loss:  0.08059857785701752\n"
     ]
    },
    {
     "name": "stderr",
     "output_type": "stream",
     "text": [
      " 57%|█████▋    | 57/100 [19:02<14:28, 20.20s/it]"
     ]
    },
    {
     "name": "stdout",
     "output_type": "stream",
     "text": [
      "Epoch: 56 Training Loss:  0.07390781571016167 Valid Loss:  0.07286213097326896\n"
     ]
    },
    {
     "name": "stderr",
     "output_type": "stream",
     "text": [
      " 58%|█████▊    | 58/100 [19:22<14:07, 20.17s/it]"
     ]
    },
    {
     "name": "stdout",
     "output_type": "stream",
     "text": [
      "Epoch: 57 Training Loss:  0.06852003655424624 Valid Loss:  0.0793792984503157\n"
     ]
    },
    {
     "name": "stderr",
     "output_type": "stream",
     "text": [
      " 59%|█████▉    | 59/100 [19:42<13:46, 20.16s/it]"
     ]
    },
    {
     "name": "stdout",
     "output_type": "stream",
     "text": [
      "Epoch: 58 Training Loss:  0.06980084723821192 Valid Loss:  0.07394098249428413\n"
     ]
    },
    {
     "name": "stderr",
     "output_type": "stream",
     "text": [
      " 60%|██████    | 60/100 [20:03<13:32, 20.32s/it]"
     ]
    },
    {
     "name": "stdout",
     "output_type": "stream",
     "text": [
      "Epoch: 59 Training Loss:  0.0729751346181288 Valid Loss:  0.07432378653217764\n"
     ]
    },
    {
     "name": "stderr",
     "output_type": "stream",
     "text": [
      " 61%|██████    | 61/100 [20:23<13:13, 20.34s/it]"
     ]
    },
    {
     "name": "stdout",
     "output_type": "stream",
     "text": [
      "Epoch: 60 Training Loss:  0.07289542714980515 Valid Loss:  0.08383134971646701\n"
     ]
    },
    {
     "name": "stderr",
     "output_type": "stream",
     "text": [
      " 62%|██████▏   | 62/100 [20:43<12:51, 20.30s/it]"
     ]
    },
    {
     "name": "stdout",
     "output_type": "stream",
     "text": [
      "Epoch: 61 Training Loss:  0.06871595848916155 Valid Loss:  0.07288329719620593\n"
     ]
    },
    {
     "name": "stderr",
     "output_type": "stream",
     "text": [
      " 63%|██████▎   | 63/100 [21:04<12:30, 20.29s/it]"
     ]
    },
    {
     "name": "stdout",
     "output_type": "stream",
     "text": [
      "Epoch: 62 Training Loss:  0.0672575207709363 Valid Loss:  0.0737360360867837\n"
     ]
    },
    {
     "name": "stderr",
     "output_type": "stream",
     "text": [
      " 64%|██████▍   | 64/100 [21:24<12:10, 20.29s/it]"
     ]
    },
    {
     "name": "stdout",
     "output_type": "stream",
     "text": [
      "Epoch: 63 Training Loss:  0.06588701680867058 Valid Loss:  0.06983178651289028\n"
     ]
    },
    {
     "name": "stderr",
     "output_type": "stream",
     "text": [
      " 65%|██████▌   | 65/100 [21:44<11:48, 20.25s/it]"
     ]
    },
    {
     "name": "stdout",
     "output_type": "stream",
     "text": [
      "Epoch: 64 Training Loss:  0.0623280086244146 Valid Loss:  0.08127072869854815\n"
     ]
    },
    {
     "name": "stderr",
     "output_type": "stream",
     "text": [
      " 66%|██████▌   | 66/100 [22:04<11:25, 20.16s/it]"
     ]
    },
    {
     "name": "stdout",
     "output_type": "stream",
     "text": [
      "Epoch: 65 Training Loss:  0.06381553315529317 Valid Loss:  0.07794346627505387\n"
     ]
    },
    {
     "name": "stderr",
     "output_type": "stream",
     "text": [
      " 67%|██████▋   | 67/100 [22:24<11:02, 20.06s/it]"
     ]
    },
    {
     "name": "stdout",
     "output_type": "stream",
     "text": [
      "Epoch: 66 Training Loss:  0.07221724335668665 Valid Loss:  0.07077800701646243\n"
     ]
    },
    {
     "name": "stderr",
     "output_type": "stream",
     "text": [
      " 68%|██████▊   | 68/100 [22:44<10:42, 20.07s/it]"
     ]
    },
    {
     "name": "stdout",
     "output_type": "stream",
     "text": [
      "Epoch: 67 Training Loss:  0.06394811663212198 Valid Loss:  0.07389223619418986\n"
     ]
    },
    {
     "name": "stderr",
     "output_type": "stream",
     "text": [
      " 69%|██████▉   | 69/100 [23:04<10:20, 20.02s/it]"
     ]
    },
    {
     "name": "stdout",
     "output_type": "stream",
     "text": [
      "Epoch: 68 Training Loss:  0.06327792852552551 Valid Loss:  0.07792774127686725\n"
     ]
    },
    {
     "name": "stderr",
     "output_type": "stream",
     "text": [
      " 70%|███████   | 70/100 [23:24<09:59, 19.97s/it]"
     ]
    },
    {
     "name": "stdout",
     "output_type": "stream",
     "text": [
      "Epoch: 69 Training Loss:  0.06716641120499733 Valid Loss:  0.07413562694016625\n"
     ]
    },
    {
     "name": "stderr",
     "output_type": "stream",
     "text": [
      " 71%|███████   | 71/100 [23:44<09:41, 20.04s/it]"
     ]
    },
    {
     "name": "stdout",
     "output_type": "stream",
     "text": [
      "Epoch: 70 Training Loss:  0.06038471966078787 Valid Loss:  0.07283327859990738\n"
     ]
    },
    {
     "name": "stderr",
     "output_type": "stream",
     "text": [
      " 72%|███████▏  | 72/100 [24:04<09:22, 20.11s/it]"
     ]
    },
    {
     "name": "stdout",
     "output_type": "stream",
     "text": [
      "Epoch: 71 Training Loss:  0.06266224113377658 Valid Loss:  0.07600619424791898\n"
     ]
    },
    {
     "name": "stderr",
     "output_type": "stream",
     "text": [
      " 73%|███████▎  | 73/100 [24:24<09:01, 20.04s/it]"
     ]
    },
    {
     "name": "stdout",
     "output_type": "stream",
     "text": [
      "Epoch: 72 Training Loss:  0.05761201849037951 Valid Loss:  0.07161419225089691\n"
     ]
    },
    {
     "name": "stderr",
     "output_type": "stream",
     "text": [
      " 74%|███████▍  | 74/100 [24:44<08:40, 20.04s/it]"
     ]
    },
    {
     "name": "stdout",
     "output_type": "stream",
     "text": [
      "Epoch: 73 Training Loss:  0.06191067648769328 Valid Loss:  0.07339521694709272\n"
     ]
    },
    {
     "name": "stderr",
     "output_type": "stream",
     "text": [
      " 75%|███████▌  | 75/100 [25:04<08:21, 20.05s/it]"
     ]
    },
    {
     "name": "stdout",
     "output_type": "stream",
     "text": [
      "Epoch: 74 Training Loss:  0.06021140848822666 Valid Loss:  0.07350004091858864\n"
     ]
    },
    {
     "name": "stderr",
     "output_type": "stream",
     "text": [
      " 76%|███████▌  | 76/100 [25:24<08:01, 20.08s/it]"
     ]
    },
    {
     "name": "stdout",
     "output_type": "stream",
     "text": [
      "Epoch: 75 Training Loss:  0.059480991920061184 Valid Loss:  0.07377837707891184\n"
     ]
    },
    {
     "name": "stderr",
     "output_type": "stream",
     "text": [
      " 77%|███████▋  | 77/100 [25:44<07:41, 20.05s/it]"
     ]
    },
    {
     "name": "stdout",
     "output_type": "stream",
     "text": [
      "Epoch: 76 Training Loss:  0.05794668008545131 Valid Loss:  0.060685089405845195\n"
     ]
    },
    {
     "name": "stderr",
     "output_type": "stream",
     "text": [
      " 78%|███████▊  | 78/100 [26:04<07:19, 19.98s/it]"
     ]
    },
    {
     "name": "stdout",
     "output_type": "stream",
     "text": [
      "Epoch: 77 Training Loss:  0.055728578375595986 Valid Loss:  0.07083893830285352\n"
     ]
    },
    {
     "name": "stderr",
     "output_type": "stream",
     "text": [
      " 79%|███████▉  | 79/100 [26:24<06:59, 19.99s/it]"
     ]
    },
    {
     "name": "stdout",
     "output_type": "stream",
     "text": [
      "Epoch: 78 Training Loss:  0.04988787890496579 Valid Loss:  0.07344494902474039\n"
     ]
    },
    {
     "name": "stderr",
     "output_type": "stream",
     "text": [
      " 80%|████████  | 80/100 [26:44<06:39, 19.97s/it]"
     ]
    },
    {
     "name": "stdout",
     "output_type": "stream",
     "text": [
      "Epoch: 79 Training Loss:  0.06227057048994483 Valid Loss:  0.07896064660128425\n"
     ]
    },
    {
     "name": "stderr",
     "output_type": "stream",
     "text": [
      " 81%|████████  | 81/100 [27:04<06:18, 19.92s/it]"
     ]
    },
    {
     "name": "stdout",
     "output_type": "stream",
     "text": [
      "Epoch: 80 Training Loss:  0.055846440154268887 Valid Loss:  0.07936962168006335\n"
     ]
    },
    {
     "name": "stderr",
     "output_type": "stream",
     "text": [
      " 82%|████████▏ | 82/100 [27:24<05:58, 19.91s/it]"
     ]
    },
    {
     "name": "stdout",
     "output_type": "stream",
     "text": [
      "Epoch: 81 Training Loss:  0.05037180173464797 Valid Loss:  0.07751607588108848\n"
     ]
    },
    {
     "name": "stderr",
     "output_type": "stream",
     "text": [
      " 83%|████████▎ | 83/100 [27:44<05:39, 20.00s/it]"
     ]
    },
    {
     "name": "stdout",
     "output_type": "stream",
     "text": [
      "Epoch: 82 Training Loss:  0.05112191792013067 Valid Loss:  0.07315877540146604\n"
     ]
    },
    {
     "name": "stderr",
     "output_type": "stream",
     "text": [
      " 84%|████████▍ | 84/100 [28:04<05:20, 20.04s/it]"
     ]
    },
    {
     "name": "stdout",
     "output_type": "stream",
     "text": [
      "Epoch: 83 Training Loss:  0.05123642304291328 Valid Loss:  0.06457340750185882\n"
     ]
    },
    {
     "name": "stderr",
     "output_type": "stream",
     "text": [
      " 85%|████████▌ | 85/100 [28:24<05:00, 20.06s/it]"
     ]
    },
    {
     "name": "stdout",
     "output_type": "stream",
     "text": [
      "Epoch: 84 Training Loss:  0.051882110394989 Valid Loss:  0.07770828595932792\n"
     ]
    },
    {
     "name": "stderr",
     "output_type": "stream",
     "text": [
      " 86%|████████▌ | 86/100 [28:44<04:40, 20.07s/it]"
     ]
    },
    {
     "name": "stdout",
     "output_type": "stream",
     "text": [
      "Epoch: 85 Training Loss:  0.05016442504005902 Valid Loss:  0.068197330350385\n"
     ]
    },
    {
     "name": "stderr",
     "output_type": "stream",
     "text": [
      " 87%|████████▋ | 87/100 [29:04<04:20, 20.04s/it]"
     ]
    },
    {
     "name": "stdout",
     "output_type": "stream",
     "text": [
      "Epoch: 86 Training Loss:  0.05062959698790854 Valid Loss:  0.07261530452353113\n"
     ]
    },
    {
     "name": "stderr",
     "output_type": "stream",
     "text": [
      " 88%|████████▊ | 88/100 [29:24<04:00, 20.03s/it]"
     ]
    },
    {
     "name": "stdout",
     "output_type": "stream",
     "text": [
      "Epoch: 87 Training Loss:  0.05868564404998765 Valid Loss:  0.0688866517123054\n"
     ]
    },
    {
     "name": "stderr",
     "output_type": "stream",
     "text": [
      " 89%|████████▉ | 89/100 [29:44<03:40, 20.05s/it]"
     ]
    },
    {
     "name": "stdout",
     "output_type": "stream",
     "text": [
      "Epoch: 88 Training Loss:  0.049425154755061325 Valid Loss:  0.07299960579942255\n"
     ]
    },
    {
     "name": "stderr",
     "output_type": "stream",
     "text": [
      " 90%|█████████ | 90/100 [30:04<03:20, 20.02s/it]"
     ]
    },
    {
     "name": "stdout",
     "output_type": "stream",
     "text": [
      "Epoch: 89 Training Loss:  0.04808143156608849 Valid Loss:  0.07116750496275284\n"
     ]
    },
    {
     "name": "stderr",
     "output_type": "stream",
     "text": [
      " 91%|█████████ | 91/100 [30:24<03:00, 20.01s/it]"
     ]
    },
    {
     "name": "stdout",
     "output_type": "stream",
     "text": [
      "Epoch: 90 Training Loss:  0.04888699045687011 Valid Loss:  0.07166871362749268\n"
     ]
    },
    {
     "name": "stderr",
     "output_type": "stream",
     "text": [
      " 92%|█████████▏| 92/100 [30:44<02:39, 19.98s/it]"
     ]
    },
    {
     "name": "stdout",
     "output_type": "stream",
     "text": [
      "Epoch: 91 Training Loss:  0.04721065480826479 Valid Loss:  0.06574484004693873\n"
     ]
    },
    {
     "name": "stderr",
     "output_type": "stream",
     "text": [
      " 93%|█████████▎| 93/100 [31:04<02:20, 20.04s/it]"
     ]
    },
    {
     "name": "stdout",
     "output_type": "stream",
     "text": [
      "Epoch: 92 Training Loss:  0.045722106669211025 Valid Loss:  0.07102178212474375\n"
     ]
    },
    {
     "name": "stderr",
     "output_type": "stream",
     "text": [
      " 94%|█████████▍| 94/100 [31:24<02:00, 20.03s/it]"
     ]
    },
    {
     "name": "stdout",
     "output_type": "stream",
     "text": [
      "Epoch: 93 Training Loss:  0.048662786936443866 Valid Loss:  0.07121110115857686\n"
     ]
    },
    {
     "name": "stderr",
     "output_type": "stream",
     "text": [
      " 95%|█████████▌| 95/100 [31:44<01:40, 20.04s/it]"
     ]
    },
    {
     "name": "stdout",
     "output_type": "stream",
     "text": [
      "Epoch: 94 Training Loss:  0.04906425912949172 Valid Loss:  0.08080859679509611\n"
     ]
    },
    {
     "name": "stderr",
     "output_type": "stream",
     "text": [
      " 96%|█████████▌| 96/100 [32:04<01:20, 20.07s/it]"
     ]
    },
    {
     "name": "stdout",
     "output_type": "stream",
     "text": [
      "Epoch: 95 Training Loss:  0.04610736535466982 Valid Loss:  0.06865326578126234\n"
     ]
    },
    {
     "name": "stderr",
     "output_type": "stream",
     "text": [
      " 97%|█████████▋| 97/100 [32:25<01:00, 20.13s/it]"
     ]
    },
    {
     "name": "stdout",
     "output_type": "stream",
     "text": [
      "Epoch: 96 Training Loss:  0.04482278064119093 Valid Loss:  0.06564648569945027\n"
     ]
    },
    {
     "name": "stderr",
     "output_type": "stream",
     "text": [
      " 98%|█████████▊| 98/100 [32:45<00:40, 20.07s/it]"
     ]
    },
    {
     "name": "stdout",
     "output_type": "stream",
     "text": [
      "Epoch: 97 Training Loss:  0.040725477801805195 Valid Loss:  0.06836360671064433\n"
     ]
    },
    {
     "name": "stderr",
     "output_type": "stream",
     "text": [
      " 99%|█████████▉| 99/100 [33:05<00:20, 20.09s/it]"
     ]
    },
    {
     "name": "stdout",
     "output_type": "stream",
     "text": [
      "Epoch: 98 Training Loss:  0.048382223837754944 Valid Loss:  0.07288752978338915\n"
     ]
    },
    {
     "name": "stderr",
     "output_type": "stream",
     "text": [
      "100%|██████████| 100/100 [33:25<00:00, 20.05s/it]"
     ]
    },
    {
     "name": "stdout",
     "output_type": "stream",
     "text": [
      "Epoch: 99 Training Loss:  0.044365706627793385 Valid Loss:  0.0688697697923464\n"
     ]
    },
    {
     "name": "stderr",
     "output_type": "stream",
     "text": [
      "\n"
     ]
    }
   ],
   "source": [
    "EPOCHS = 100 ## run the model for 100 epochs\n",
    "\n",
    "for epoch in tqdm(range(EPOCHS)): \n",
    "    train_loss, valid_loss = [], []\n",
    "    ## training part \n",
    "    model.train()\n",
    "    for images, labels in train_dataloader:\n",
    "        \n",
    "        #moving data into the device\n",
    "        images , labels = images.to(device) , labels.to(device)\n",
    "        \n",
    "        optimizer.zero_grad()\n",
    "        ## 1. forward propagation\n",
    "        outputs = model(images)\n",
    "        \n",
    "        ## 2. loss calculation\n",
    "        loss = criterion(outputs, labels)\n",
    "        \n",
    "        ## 3. backward propagation\n",
    "        loss.backward()\n",
    "        \n",
    "        ## 4. weight optimization\n",
    "        optimizer.step()\n",
    "        \n",
    "        train_loss.append(loss.item())\n",
    "        \n",
    "    ## evaluation part\n",
    "    with torch.no_grad():\n",
    "        model.eval()\n",
    "        for images, labels in val_dataloader:\n",
    "            images , labels = images.to(device) , labels.to(device)\n",
    "            outputs = model(images)\n",
    "            loss = criterion(outputs, labels)\n",
    "            valid_loss.append(loss.item())\n",
    "    print (\"Epoch:\", epoch, \"Training Loss: \", np.mean(train_loss), \"Valid Loss: \", np.mean(valid_loss))"
   ]
  },
  {
   "cell_type": "code",
   "execution_count": 26,
   "id": "635631b7",
   "metadata": {
    "execution": {
     "iopub.execute_input": "2024-08-14T13:45:40.547791Z",
     "iopub.status.busy": "2024-08-14T13:45:40.547490Z",
     "iopub.status.idle": "2024-08-14T13:45:40.689650Z",
     "shell.execute_reply": "2024-08-14T13:45:40.688777Z"
    },
    "papermill": {
     "duration": 0.170778,
     "end_time": "2024-08-14T13:45:40.691489",
     "exception": false,
     "start_time": "2024-08-14T13:45:40.520711",
     "status": "completed"
    },
    "tags": []
   },
   "outputs": [],
   "source": [
    "torch.cuda.empty_cache()"
   ]
  },
  {
   "cell_type": "markdown",
   "id": "3d226bc5",
   "metadata": {
    "papermill": {
     "duration": 0.025221,
     "end_time": "2024-08-14T13:45:40.742366",
     "exception": false,
     "start_time": "2024-08-14T13:45:40.717145",
     "status": "completed"
    },
    "tags": []
   },
   "source": [
    "### Inference using trained model"
   ]
  },
  {
   "cell_type": "code",
   "execution_count": 27,
   "id": "dc10cbfa",
   "metadata": {
    "execution": {
     "iopub.execute_input": "2024-08-14T13:45:40.794729Z",
     "iopub.status.busy": "2024-08-14T13:45:40.794149Z",
     "iopub.status.idle": "2024-08-14T13:45:43.322851Z",
     "shell.execute_reply": "2024-08-14T13:45:43.321984Z"
    },
    "papermill": {
     "duration": 2.55717,
     "end_time": "2024-08-14T13:45:43.324943",
     "exception": false,
     "start_time": "2024-08-14T13:45:40.767773",
     "status": "completed"
    },
    "tags": []
   },
   "outputs": [
    {
     "name": "stderr",
     "output_type": "stream",
     "text": [
      "100%|██████████| 17/17 [00:02<00:00,  6.75it/s]\n"
     ]
    }
   ],
   "source": [
    "predictions = []\n",
    "model.eval()\n",
    "\n",
    "with torch.no_grad():\n",
    "    for images, labels in tqdm(val_dataloader):\n",
    "        images = images.to(device)\n",
    "                \n",
    "        outputs = model(images)\n",
    "        predictions.extend([int(i) for i in torch.argmax(outputs, dim=1)])"
   ]
  },
  {
   "cell_type": "code",
   "execution_count": 28,
   "id": "3dab8891",
   "metadata": {
    "execution": {
     "iopub.execute_input": "2024-08-14T13:45:43.384435Z",
     "iopub.status.busy": "2024-08-14T13:45:43.384129Z",
     "iopub.status.idle": "2024-08-14T13:45:43.393796Z",
     "shell.execute_reply": "2024-08-14T13:45:43.392942Z"
    },
    "papermill": {
     "duration": 0.041511,
     "end_time": "2024-08-14T13:45:43.395764",
     "exception": false,
     "start_time": "2024-08-14T13:45:43.354253",
     "status": "completed"
    },
    "tags": []
   },
   "outputs": [
    {
     "data": {
      "text/plain": [
       "0.09785714285714285"
      ]
     },
     "execution_count": 28,
     "metadata": {},
     "output_type": "execute_result"
    }
   ],
   "source": [
    "from sklearn.metrics import accuracy_score\n",
    "accuracy_score(val_df['label'].values,predictions)"
   ]
  },
  {
   "cell_type": "code",
   "execution_count": null,
   "id": "e22c20fa",
   "metadata": {
    "papermill": {
     "duration": 0.02718,
     "end_time": "2024-08-14T13:45:43.450643",
     "exception": false,
     "start_time": "2024-08-14T13:45:43.423463",
     "status": "completed"
    },
    "tags": []
   },
   "outputs": [],
   "source": []
  }
 ],
 "metadata": {
  "kaggle": {
   "accelerator": "gpu",
   "dataSources": [
    {
     "databundleVersionId": 861823,
     "sourceId": 3004,
     "sourceType": "competition"
    }
   ],
   "dockerImageVersionId": 30747,
   "isGpuEnabled": true,
   "isInternetEnabled": true,
   "language": "python",
   "sourceType": "notebook"
  },
  "kernelspec": {
   "display_name": "Python 3",
   "language": "python",
   "name": "python3"
  },
  "language_info": {
   "codemirror_mode": {
    "name": "ipython",
    "version": 3
   },
   "file_extension": ".py",
   "mimetype": "text/x-python",
   "name": "python",
   "nbconvert_exporter": "python",
   "pygments_lexer": "ipython3",
   "version": "3.10.13"
  },
  "papermill": {
   "default_parameters": {},
   "duration": 2025.035888,
   "end_time": "2024-08-14T13:45:44.903114",
   "environment_variables": {},
   "exception": null,
   "input_path": "__notebook__.ipynb",
   "output_path": "__notebook__.ipynb",
   "parameters": {},
   "start_time": "2024-08-14T13:11:59.867226",
   "version": "2.5.0"
  }
 },
 "nbformat": 4,
 "nbformat_minor": 5
}
