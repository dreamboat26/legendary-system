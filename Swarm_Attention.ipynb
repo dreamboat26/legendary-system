{
  "nbformat": 4,
  "nbformat_minor": 0,
  "metadata": {
    "colab": {
      "provenance": [],
      "gpuType": "T4"
    },
    "kernelspec": {
      "name": "python3",
      "display_name": "Python 3"
    },
    "language_info": {
      "name": "python"
    },
    "accelerator": "GPU"
  },
  "cells": [
    {
      "cell_type": "code",
      "execution_count": null,
      "metadata": {
        "colab": {
          "base_uri": "https://localhost:8080/"
        },
        "id": "wa1fiWXknQ3r",
        "outputId": "0cf62ce8-b42d-4b21-a213-ce0f6e61a032"
      },
      "outputs": [
        {
          "output_type": "stream",
          "name": "stdout",
          "text": [
            "Using device: cuda\n"
          ]
        }
      ],
      "source": [
        "# Import necessary libraries\n",
        "import torch\n",
        "import torch.nn as nn\n",
        "import torch.optim as optim\n",
        "import torch.nn.functional as F\n",
        "import numpy as np\n",
        "import matplotlib.pyplot as plt\n",
        "\n",
        "# Check if CUDA is available\n",
        "device = torch.device(\"cuda\" if torch.cuda.is_available() else \"cpu\")\n",
        "print(f'Using device: {device}')"
      ]
    },
    {
      "cell_type": "code",
      "source": [
        "# Generate a toy dataset\n",
        "def generate_sequences(num_sequences=1000, seq_length=10, vocab_size=20):\n",
        "    X = np.random.randint(1, vocab_size, size=(num_sequences, seq_length))\n",
        "    y = np.copy(X)\n",
        "    return X, y\n",
        "\n",
        "vocab_size = 21  # including a padding index at 0\n",
        "seq_length = 10\n",
        "\n",
        "X_data, y_data = generate_sequences(num_sequences=1000, seq_length=seq_length, vocab_size=vocab_size)\n",
        "\n",
        "# Convert to tensors\n",
        "X_tensor = torch.LongTensor(X_data)\n",
        "y_tensor = torch.LongTensor(y_data)"
      ],
      "metadata": {
        "id": "dNEZAGT0nU61"
      },
      "execution_count": null,
      "outputs": []
    },
    {
      "cell_type": "code",
      "source": [
        "# Cell 3: Define the SwarmAttention class\n",
        "class SwarmAttention(nn.Module):\n",
        "    def __init__(self, hidden_size, seq_length, num_agents=5):\n",
        "        super(SwarmAttention, self).__init__()\n",
        "        self.hidden_size = hidden_size\n",
        "        self.seq_length = seq_length\n",
        "        self.num_agents = num_agents\n",
        "\n",
        "        # Initialize agent positions (learnable parameters)\n",
        "        # Positions are logits over sequence positions\n",
        "        self.agent_positions = nn.Parameter(torch.randn(num_agents, seq_length))\n",
        "\n",
        "    def forward(self, encoder_outputs, decoder_hidden, epoch, total_epochs):\n",
        "        batch_size = encoder_outputs.size(0)\n",
        "\n",
        "        # Adjust temperature dynamically\n",
        "        T_initial, T_final = 5.0, 1.0\n",
        "        if total_epochs > 1:\n",
        "            T = T_initial - ((T_initial - T_final) * (epoch / (total_epochs - 1)))\n",
        "        else:\n",
        "            T = T_final  # Avoid division by zero when total_epochs is 1\n",
        "\n",
        "        temperature = T\n",
        "\n",
        "        # Apply temperature to softmax\n",
        "        agent_distributions = F.softmax(self.agent_positions / temperature, dim=-1)\n",
        "\n",
        "        # Add Gaussian noise\n",
        "        noise_std = 0.1\n",
        "        noise = torch.randn_like(agent_distributions) * noise_std\n",
        "        agent_distributions = agent_distributions + noise\n",
        "\n",
        "        # Re-normalize to ensure valid probabilities\n",
        "        agent_distributions = F.softmax(agent_distributions, dim=-1)\n",
        "\n",
        "        # Aggregate agent distributions\n",
        "        attention_weights = agent_distributions.mean(dim=0)\n",
        "        attention_weights = F.softmax(attention_weights, dim=-1)\n",
        "\n",
        "        # Expand to match batch size\n",
        "        attention_weights = attention_weights.unsqueeze(0).expand(batch_size, -1)  # (batch_size, seq_length)\n",
        "\n",
        "        # Apply attention weights to encoder outputs\n",
        "        context = torch.bmm(attention_weights.unsqueeze(1), encoder_outputs).squeeze(1)  # (batch_size, hidden_size)\n",
        "\n",
        "        return context, attention_weights"
      ],
      "metadata": {
        "id": "b2Cc-_51nX5M"
      },
      "execution_count": null,
      "outputs": []
    },
    {
      "cell_type": "code",
      "source": [
        "# Cell 4: Define the Encoder class\n",
        "class Encoder(nn.Module):\n",
        "    def __init__(self, vocab_size, embedding_size, hidden_size):\n",
        "        super(Encoder, self).__init__()\n",
        "        self.hidden_size = hidden_size\n",
        "\n",
        "        self.embedding = nn.Embedding(vocab_size, embedding_size, padding_idx=0)\n",
        "        self.rnn = nn.GRU(embedding_size, hidden_size, batch_first=True)\n",
        "\n",
        "    def forward(self, input_seq):\n",
        "        # input_seq: (batch_size, seq_length)\n",
        "        embedded = self.embedding(input_seq)  # (batch_size, seq_length, embedding_size)\n",
        "        outputs, hidden = self.rnn(embedded)  # outputs: (batch_size, seq_length, hidden_size)\n",
        "        return outputs, hidden  # hidden: (1, batch_size, hidden_size)"
      ],
      "metadata": {
        "id": "2qVlA4hQncsr"
      },
      "execution_count": null,
      "outputs": []
    },
    {
      "cell_type": "code",
      "source": [
        "# Cell 5: Define the Decoder class\n",
        "class Decoder(nn.Module):\n",
        "    def __init__(self, vocab_size, embedding_size, hidden_size, seq_length, num_agents=5):\n",
        "        super(Decoder, self).__init__()\n",
        "        self.hidden_size = hidden_size\n",
        "        self.seq_length = seq_length\n",
        "\n",
        "        self.embedding = nn.Embedding(vocab_size, embedding_size, padding_idx=0)\n",
        "        self.attention = SwarmAttention(hidden_size, seq_length, num_agents=num_agents)\n",
        "        self.rnn = nn.GRU(embedding_size + hidden_size, hidden_size, batch_first=True)\n",
        "        self.out = nn.Linear(hidden_size, vocab_size)\n",
        "\n",
        "    def forward(self, input_token, decoder_hidden, encoder_outputs, epoch, total_epochs):\n",
        "        # input_token: (batch_size)\n",
        "        # decoder_hidden: (1, batch_size, hidden_size)\n",
        "        # encoder_outputs: (batch_size, seq_length, hidden_size)\n",
        "\n",
        "        batch_size = input_token.size(0)\n",
        "\n",
        "        embedded = self.embedding(input_token).unsqueeze(1)  # (batch_size, 1, embedding_size)\n",
        "\n",
        "        # Calculate context vector using swarm attention\n",
        "        context, attention_weights = self.attention(\n",
        "            encoder_outputs, decoder_hidden.squeeze(0), epoch, total_epochs\n",
        "        )  # context: (batch_size, hidden_size)\n",
        "\n",
        "        # Concatenate embedded input and context\n",
        "        rnn_input = torch.cat([embedded, context.unsqueeze(1)], dim=2)  # (batch_size, 1, embedding_size + hidden_size)\n",
        "\n",
        "        # Pass through RNN\n",
        "        output, hidden = self.rnn(rnn_input, decoder_hidden)  # output: (batch_size, 1, hidden_size)\n",
        "\n",
        "        # Predict next token\n",
        "        output = self.out(output.squeeze(1))  # (batch_size, vocab_size)\n",
        "\n",
        "        return output, hidden, attention_weights"
      ],
      "metadata": {
        "id": "2lY_qBD0nhNi"
      },
      "execution_count": null,
      "outputs": []
    },
    {
      "cell_type": "code",
      "source": [
        "# Cell 6: Set hyperparameters\n",
        "embedding_size = 64\n",
        "hidden_size =128\n",
        "num_agents = 500\n",
        "batch_size = 32\n",
        "num_epochs = 50\n",
        "learning_rate = 0.01"
      ],
      "metadata": {
        "id": "S6iamlswnkZi"
      },
      "execution_count": null,
      "outputs": []
    },
    {
      "cell_type": "code",
      "source": [
        "# Cell 7: Prepare data loaders\n",
        "from torch.utils.data import DataLoader, TensorDataset\n",
        "\n",
        "# Create dataset\n",
        "dataset = TensorDataset(X_tensor, y_tensor)\n",
        "data_loader = DataLoader(dataset, batch_size=batch_size, shuffle=True)"
      ],
      "metadata": {
        "id": "gU28mA0GnnTb"
      },
      "execution_count": null,
      "outputs": []
    },
    {
      "cell_type": "code",
      "source": [
        "# Cell 8: Instantiate model and optimizer\n",
        "encoder = Encoder(vocab_size, embedding_size, hidden_size).to(device)\n",
        "decoder = Decoder(vocab_size, embedding_size, hidden_size, seq_length, num_agents=num_agents).to(device)\n",
        "\n",
        "criterion = nn.CrossEntropyLoss(ignore_index=0)\n",
        "encoder_optimizer = optim.Adam(encoder.parameters(), lr=learning_rate)\n",
        "decoder_optimizer = optim.Adam(decoder.parameters(), lr=learning_rate)"
      ],
      "metadata": {
        "id": "yF0co6_enp7C"
      },
      "execution_count": null,
      "outputs": []
    },
    {
      "cell_type": "code",
      "source": [
        "# Cell 9: Training loop\n",
        "for epoch in range(num_epochs):\n",
        "    encoder.train()\n",
        "    decoder.train()\n",
        "    total_loss = 0\n",
        "\n",
        "    for batch_idx, (input_seq, target_seq) in enumerate(data_loader):\n",
        "        input_seq = input_seq.to(device)\n",
        "        target_seq = target_seq.to(device)\n",
        "\n",
        "        batch_size = input_seq.size(0)\n",
        "\n",
        "        # Reset gradients\n",
        "        encoder_optimizer.zero_grad()\n",
        "        decoder_optimizer.zero_grad()\n",
        "\n",
        "        # Encoder forward pass\n",
        "        encoder_outputs, encoder_hidden = encoder(input_seq)\n",
        "\n",
        "        # Decoder initial hidden state\n",
        "        decoder_hidden = encoder_hidden\n",
        "\n",
        "        # Decoder input (start with <PAD>)\n",
        "        decoder_input = torch.zeros(batch_size, dtype=torch.long, device=device)\n",
        "\n",
        "        loss = 0\n",
        "\n",
        "        for t in range(seq_length):\n",
        "            decoder_output, decoder_hidden, attention_weights = decoder(\n",
        "                decoder_input, decoder_hidden, encoder_outputs, epoch, num_epochs\n",
        "            )\n",
        "            # Teacher forcing\n",
        "            decoder_input = target_seq[:, t]\n",
        "\n",
        "            loss += criterion(decoder_output, target_seq[:, t])\n",
        "\n",
        "        loss.backward()\n",
        "\n",
        "        # Clip gradients\n",
        "        torch.nn.utils.clip_grad_norm_(encoder.parameters(), max_norm=1)\n",
        "        torch.nn.utils.clip_grad_norm_(decoder.parameters(), max_norm=1)\n",
        "\n",
        "        encoder_optimizer.step()\n",
        "        decoder_optimizer.step()\n",
        "\n",
        "        total_loss += loss.item()\n",
        "\n",
        "        if batch_idx % 100 == 0:\n",
        "            avg_loss = total_loss / ((batch_idx + 1) * seq_length)\n",
        "            print(f'Epoch [{epoch+1}/{num_epochs}], Batch [{batch_idx}], Loss: {avg_loss:.4f}')\n",
        "\n",
        "    # Optional: Evaluate on validation set or print epoch loss\n",
        "    avg_epoch_loss = total_loss / (len(data_loader) * seq_length)\n",
        "    print(f'Epoch [{epoch+1}/{num_epochs}] completed with average loss: {avg_epoch_loss:.4f}')"
      ],
      "metadata": {
        "id": "6DbvgNpNnuNh",
        "colab": {
          "base_uri": "https://localhost:8080/"
        },
        "outputId": "7b94645e-118f-49b7-beaf-bb7995abfbc9"
      },
      "execution_count": null,
      "outputs": [
        {
          "output_type": "stream",
          "name": "stdout",
          "text": [
            "Epoch [1/50], Batch [0], Loss: 3.0436\n",
            "Epoch [1/50] completed with average loss: 2.4990\n",
            "Epoch [2/50], Batch [0], Loss: 1.8745\n",
            "Epoch [2/50] completed with average loss: 1.7975\n",
            "Epoch [3/50], Batch [0], Loss: 1.5224\n",
            "Epoch [3/50] completed with average loss: 1.4745\n",
            "Epoch [4/50], Batch [0], Loss: 1.2162\n",
            "Epoch [4/50] completed with average loss: 1.3423\n",
            "Epoch [5/50], Batch [0], Loss: 1.1863\n",
            "Epoch [5/50] completed with average loss: 1.2278\n",
            "Epoch [6/50], Batch [0], Loss: 1.0828\n",
            "Epoch [6/50] completed with average loss: 1.1483\n",
            "Epoch [7/50], Batch [0], Loss: 1.0829\n",
            "Epoch [7/50] completed with average loss: 1.0402\n",
            "Epoch [8/50], Batch [0], Loss: 0.9275\n",
            "Epoch [8/50] completed with average loss: 0.9730\n",
            "Epoch [9/50], Batch [0], Loss: 0.8873\n",
            "Epoch [9/50] completed with average loss: 0.9248\n",
            "Epoch [10/50], Batch [0], Loss: 0.7497\n",
            "Epoch [10/50] completed with average loss: 0.8845\n",
            "Epoch [11/50], Batch [0], Loss: 0.6615\n",
            "Epoch [11/50] completed with average loss: 0.8438\n",
            "Epoch [12/50], Batch [0], Loss: 0.7415\n",
            "Epoch [12/50] completed with average loss: 0.8167\n",
            "Epoch [13/50], Batch [0], Loss: 0.7291\n",
            "Epoch [13/50] completed with average loss: 0.7573\n",
            "Epoch [14/50], Batch [0], Loss: 0.6597\n",
            "Epoch [14/50] completed with average loss: 0.7115\n",
            "Epoch [15/50], Batch [0], Loss: 0.5391\n",
            "Epoch [15/50] completed with average loss: 0.7038\n",
            "Epoch [16/50], Batch [0], Loss: 0.5168\n",
            "Epoch [16/50] completed with average loss: 0.6921\n",
            "Epoch [17/50], Batch [0], Loss: 0.5445\n",
            "Epoch [17/50] completed with average loss: 0.6478\n",
            "Epoch [18/50], Batch [0], Loss: 0.5561\n",
            "Epoch [18/50] completed with average loss: 0.6301\n",
            "Epoch [19/50], Batch [0], Loss: 0.5312\n",
            "Epoch [19/50] completed with average loss: 0.6197\n",
            "Epoch [20/50], Batch [0], Loss: 0.4742\n",
            "Epoch [20/50] completed with average loss: 0.6027\n",
            "Epoch [21/50], Batch [0], Loss: 0.4488\n",
            "Epoch [21/50] completed with average loss: 0.5557\n",
            "Epoch [22/50], Batch [0], Loss: 0.4716\n",
            "Epoch [22/50] completed with average loss: 0.5742\n",
            "Epoch [23/50], Batch [0], Loss: 0.4349\n",
            "Epoch [23/50] completed with average loss: 0.5708\n",
            "Epoch [24/50], Batch [0], Loss: 0.4825\n",
            "Epoch [24/50] completed with average loss: 0.5313\n",
            "Epoch [25/50], Batch [0], Loss: 0.3615\n",
            "Epoch [25/50] completed with average loss: 0.5184\n",
            "Epoch [26/50], Batch [0], Loss: 0.4412\n",
            "Epoch [26/50] completed with average loss: 0.5130\n",
            "Epoch [27/50], Batch [0], Loss: 0.4126\n",
            "Epoch [27/50] completed with average loss: 0.5061\n",
            "Epoch [28/50], Batch [0], Loss: 0.4906\n",
            "Epoch [28/50] completed with average loss: 0.5118\n",
            "Epoch [29/50], Batch [0], Loss: 0.3811\n",
            "Epoch [29/50] completed with average loss: 0.4980\n",
            "Epoch [30/50], Batch [0], Loss: 0.3453\n",
            "Epoch [30/50] completed with average loss: 0.4988\n",
            "Epoch [31/50], Batch [0], Loss: 0.3681\n",
            "Epoch [31/50] completed with average loss: 0.5042\n",
            "Epoch [32/50], Batch [0], Loss: 0.4020\n",
            "Epoch [32/50] completed with average loss: 0.4874\n",
            "Epoch [33/50], Batch [0], Loss: 0.4153\n",
            "Epoch [33/50] completed with average loss: 0.4940\n",
            "Epoch [34/50], Batch [0], Loss: 0.3370\n",
            "Epoch [34/50] completed with average loss: 0.4801\n",
            "Epoch [35/50], Batch [0], Loss: 0.3225\n",
            "Epoch [35/50] completed with average loss: 0.4787\n",
            "Epoch [36/50], Batch [0], Loss: 0.2956\n",
            "Epoch [36/50] completed with average loss: 0.5008\n",
            "Epoch [37/50], Batch [0], Loss: 0.4873\n",
            "Epoch [37/50] completed with average loss: 0.5029\n",
            "Epoch [38/50], Batch [0], Loss: 0.4994\n",
            "Epoch [38/50] completed with average loss: 0.5037\n",
            "Epoch [39/50], Batch [0], Loss: 0.3845\n",
            "Epoch [39/50] completed with average loss: 0.4745\n",
            "Epoch [40/50], Batch [0], Loss: 0.3386\n",
            "Epoch [40/50] completed with average loss: 0.4802\n",
            "Epoch [41/50], Batch [0], Loss: 0.3246\n",
            "Epoch [41/50] completed with average loss: 0.4760\n",
            "Epoch [42/50], Batch [0], Loss: 0.3278\n",
            "Epoch [42/50] completed with average loss: 0.4552\n",
            "Epoch [43/50], Batch [0], Loss: 0.2846\n",
            "Epoch [43/50] completed with average loss: 0.4669\n",
            "Epoch [44/50], Batch [0], Loss: 0.4899\n",
            "Epoch [44/50] completed with average loss: 0.4922\n",
            "Epoch [45/50], Batch [0], Loss: 0.2747\n",
            "Epoch [45/50] completed with average loss: 0.4650\n",
            "Epoch [46/50], Batch [0], Loss: 0.4142\n",
            "Epoch [46/50] completed with average loss: 0.4943\n",
            "Epoch [47/50], Batch [0], Loss: 0.3800\n",
            "Epoch [47/50] completed with average loss: 0.4768\n",
            "Epoch [48/50], Batch [0], Loss: 0.3974\n",
            "Epoch [48/50] completed with average loss: 0.4698\n",
            "Epoch [49/50], Batch [0], Loss: 0.4172\n",
            "Epoch [49/50] completed with average loss: 0.4647\n",
            "Epoch [50/50], Batch [0], Loss: 0.3075\n",
            "Epoch [50/50] completed with average loss: 0.4735\n"
          ]
        }
      ]
    },
    {
      "cell_type": "code",
      "source": [
        "# Cell 10: Evaluation function\n",
        "def evaluate(encoder, decoder, input_seq, epoch, num_epochs):\n",
        "    encoder.eval()\n",
        "    decoder.eval()\n",
        "\n",
        "    with torch.no_grad():\n",
        "        input_seq = input_seq.to(device)\n",
        "        batch_size = input_seq.size(0)\n",
        "        encoder_outputs, encoder_hidden = encoder(input_seq)\n",
        "        decoder_hidden = encoder_hidden\n",
        "        decoder_input = torch.zeros(batch_size, dtype=torch.long, device=device)\n",
        "\n",
        "        outputs = []\n",
        "\n",
        "        for t in range(seq_length):\n",
        "            decoder_output, decoder_hidden, attention_weights = decoder(\n",
        "                decoder_input, decoder_hidden, encoder_outputs, epoch, num_epochs\n",
        "            )\n",
        "            topv, topi = decoder_output.topk(1)\n",
        "            decoder_input = topi.squeeze(1).detach()\n",
        "            outputs.append(decoder_input.cpu().numpy())\n",
        "\n",
        "    outputs = np.stack(outputs, axis=1)\n",
        "    return outputs"
      ],
      "metadata": {
        "id": "kSUgRlZInwgR"
      },
      "execution_count": null,
      "outputs": []
    },
    {
      "cell_type": "code",
      "source": [
        "# Cell 11: Test the model\n",
        "# Select a random sample from the dataset\n",
        "sample_idx = np.random.randint(0, len(X_tensor))\n",
        "sample_input = X_tensor[sample_idx:sample_idx+1]\n",
        "sample_target = y_tensor[sample_idx:sample_idx+1]\n",
        "\n",
        "predicted_output = evaluate(encoder, decoder, sample_input, epoch=num_epochs-1, num_epochs=num_epochs)\n",
        "\n",
        "print(\"Input Sequence:    \", sample_input.numpy()[0])\n",
        "print(\"Target Sequence:   \", sample_target.numpy()[0])\n",
        "print(\"Predicted Sequence:\", predicted_output[0])\n"
      ],
      "metadata": {
        "colab": {
          "base_uri": "https://localhost:8080/"
        },
        "id": "VKp42S64nyoy",
        "outputId": "e3b8cccf-4aa0-4702-adf7-d31c8d909d50"
      },
      "execution_count": null,
      "outputs": [
        {
          "output_type": "stream",
          "name": "stdout",
          "text": [
            "Input Sequence:     [ 7 19  5 11 18 16 14 17 14  2]\n",
            "Target Sequence:    [ 7 19  5 11 18 16 14 17 14  2]\n",
            "Predicted Sequence: [ 7 19 11  5 18 14 16 17  3 16]\n"
          ]
        }
      ]
    },
    {
      "cell_type": "code",
      "source": [
        "# Cell 12: Evaluation with attention weights\n",
        "def evaluate_with_attention(encoder, decoder, input_seq, epoch, num_epochs):\n",
        "    encoder.eval()\n",
        "    decoder.eval()\n",
        "\n",
        "    attention_weights_list = []\n",
        "\n",
        "    with torch.no_grad():\n",
        "        input_seq = input_seq.to(device)\n",
        "        batch_size = input_seq.size(0)\n",
        "        encoder_outputs, encoder_hidden = encoder(input_seq)\n",
        "        decoder_hidden = encoder_hidden\n",
        "        decoder_input = torch.zeros(batch_size, dtype=torch.long, device=device)\n",
        "\n",
        "        outputs = []\n",
        "\n",
        "        for t in range(seq_length):\n",
        "            decoder_output, decoder_hidden, attention_weights = decoder(\n",
        "                decoder_input, decoder_hidden, encoder_outputs, epoch, num_epochs\n",
        "            )\n",
        "            topv, topi = decoder_output.topk(1)\n",
        "            decoder_input = topi.squeeze(1).detach()\n",
        "            outputs.append(decoder_input.cpu().numpy())\n",
        "            attention_weights_list.append(attention_weights.cpu().numpy())\n",
        "\n",
        "    outputs = np.stack(outputs, axis=1)\n",
        "    attention_weights = np.stack(attention_weights_list, axis=1)  # (batch_size, seq_length, seq_length)\n",
        "    return outputs, attention_weights\n",
        "\n",
        "# Get outputs and attention weights\n",
        "predicted_output, attention_weights = evaluate_with_attention(\n",
        "    encoder, decoder, sample_input, epoch=num_epochs-1, num_epochs=num_epochs\n",
        ")\n",
        "\n",
        "# Plot attention weights\n",
        "plt.figure(figsize=(8, 6))\n",
        "plt.imshow(attention_weights[0], cmap='hot', interpolation='nearest', aspect='auto')\n",
        "plt.xlabel('Input Sequence Positions')\n",
        "plt.ylabel('Output Sequence Positions')\n",
        "plt.title('Swarm-Based Attention Weights')\n",
        "plt.colorbar()\n",
        "plt.show()"
      ],
      "metadata": {
        "colab": {
          "base_uri": "https://localhost:8080/",
          "height": 564
        },
        "id": "uwbDyBYWUjtO",
        "outputId": "7c07dd38-be9a-4bdb-c9ad-9fc158612b84"
      },
      "execution_count": null,
      "outputs": [
        {
          "output_type": "display_data",
          "data": {
            "text/plain": [
              "<Figure size 800x600 with 2 Axes>"
            ],
            "image/png": "[encoded data removed]"
          },
          "metadata": {}
        }
      ]
    },
    {
      "cell_type": "markdown",
      "source": [
        "**Linear Attention Decoder:**"
      ],
      "metadata": {
        "id": "xMJt1uFzvRU5"
      }
    },
    {
      "cell_type": "code",
      "source": [
        "class Decoder(nn.Module):\n",
        "    def __init__(self, vocab_size, embedding_size, hidden_size):\n",
        "        super(Decoder, self).__init__()\n",
        "        self.hidden_size = hidden_size\n",
        "\n",
        "        self.embedding = nn.Embedding(vocab_size, embedding_size, padding_idx=0)\n",
        "        self.rnn = nn.GRU(embedding_size, hidden_size, batch_first=True)\n",
        "        self.out = nn.Linear(hidden_size, vocab_size)\n",
        "\n",
        "        # Linear projections for queries, keys, and values\n",
        "        self.query_proj = nn.Linear(hidden_size, hidden_size)\n",
        "        self.key_proj = nn.Linear(hidden_size, hidden_size)\n",
        "        self.value_proj = nn.Linear(hidden_size, hidden_size)\n",
        "\n",
        "        self.attention = LinearAttention()\n",
        "\n",
        "    def forward(self, input_token, decoder_hidden, encoder_outputs):\n",
        "        # input_token: (batch_size)\n",
        "        embedded = self.embedding(input_token).unsqueeze(1)  # (batch_size, 1, embedding_size)\n",
        "\n",
        "        # Pass through RNN\n",
        "        output, hidden = self.rnn(embedded, decoder_hidden)  # output: (batch_size, 1, hidden_size)\n",
        "\n",
        "        # Project queries, keys, and values\n",
        "        queries = self.query_proj(output)  # (batch_size, 1, hidden_size)\n",
        "        keys = self.key_proj(encoder_outputs)  # (batch_size, seq_length, hidden_size)\n",
        "        values = self.value_proj(encoder_outputs)  # (batch_size, seq_length, hidden_size)\n",
        "\n",
        "        # Apply activation function to ensure non-negativity\n",
        "        queries = F.elu(queries) + 1  # (batch_size, 1, hidden_size)\n",
        "        keys = F.elu(keys) + 1  # (batch_size, seq_length, hidden_size)\n",
        "\n",
        "        # Compute attention output\n",
        "        context = self.attention(queries, keys, values)  # (batch_size, 1, hidden_size)\n",
        "\n",
        "        # Combine context with RNN output\n",
        "        combined = output + context  # (batch_size, 1, hidden_size)\n",
        "\n",
        "        # Predict next token\n",
        "        output = self.out(combined.squeeze(1))  # (batch_size, vocab_size)\n",
        "\n",
        "        return output, hidden"
      ],
      "metadata": {
        "id": "CCekbcbfvXxS"
      },
      "execution_count": null,
      "outputs": []
    }
  ]
}